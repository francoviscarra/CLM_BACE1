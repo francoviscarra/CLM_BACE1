{
 "cells": [
  {
   "cell_type": "code",
   "execution_count": 1,
   "metadata": {},
   "outputs": [
    {
     "name": "stderr",
     "output_type": "stream",
     "text": [
      "2024-09-30 13:47:24.706132: E external/local_xla/xla/stream_executor/cuda/cuda_fft.cc:485] Unable to register cuFFT factory: Attempting to register factory for plugin cuFFT when one has already been registered\n",
      "2024-09-30 13:47:24.793661: E external/local_xla/xla/stream_executor/cuda/cuda_dnn.cc:8454] Unable to register cuDNN factory: Attempting to register factory for plugin cuDNN when one has already been registered\n",
      "2024-09-30 13:47:24.817992: E external/local_xla/xla/stream_executor/cuda/cuda_blas.cc:1452] Unable to register cuBLAS factory: Attempting to register factory for plugin cuBLAS when one has already been registered\n",
      "2024-09-30 13:47:24.999655: I tensorflow/core/platform/cpu_feature_guard.cc:210] This TensorFlow binary is optimized to use available CPU instructions in performance-critical operations.\n",
      "To enable the following instructions: AVX2 FMA, in other operations, rebuild TensorFlow with the appropriate compiler flags.\n",
      "2024-09-30 13:47:26.870134: W tensorflow/compiler/tf2tensorrt/utils/py_utils.cc:38] TF-TRT Warning: Could not find TensorRT\n"
     ]
    }
   ],
   "source": [
    "from tensorflow.keras import backend as K\n",
    "from tensorflow.keras.layers import Dense, LSTM, TimeDistributed, BatchNormalization, Dropout, Reshape, Input, Lambda\n",
    "from keras.optimizers import Adam\n",
    "from keras.models import Sequential, load_model, Model\n",
    "from keras.callbacks import ModelCheckpoint, ReduceLROnPlateau\n",
    "from sklearn.model_selection import train_test_split\n",
    "import time\n",
    "import pandas as pd \n",
    "import os\n",
    "import numpy as np\n",
    "import matplotlib.pyplot as plt\n",
    "\n"
   ]
  },
  {
   "cell_type": "code",
   "execution_count": 2,
   "metadata": {},
   "outputs": [],
   "source": [
    "class CLM():\n",
    "    def __init__(self, layers, n_chars, dropouts, trainables,lr):\n",
    "        self.layers = layers\n",
    "        self.n_chars = n_chars\n",
    "        self.dropouts = dropouts\n",
    "        self.trainables = trainables\n",
    "        self.lr = lr\n",
    "        self.model = None\n",
    "        self.build_model()\n",
    "    def build_model(self):\n",
    "        # create a squential model and assigned to self.model\n",
    "        self.model = Sequential()\n",
    "        # Add a BatchNormalization layer input layer, input shape should be None, number of characters\n",
    "        self.model.add(BatchNormalization(input_shape = (None,self.n_chars)))\n",
    "        \n",
    "        # Add n LSTM layers, where n is defined by the variable layers. This will be a list of ints where each int is the number of units in the LSTM layer. i.e [256, 512] will add two layers with 256 and 512 neurons respectively\n",
    "        # This loop should also include the dropout values contained in the dropouts variable (list of floats). \n",
    "        # And it should also include the trainable parameter from the trainables variable (list of booleans). \n",
    "        print(self.layers)\n",
    "        for i in range(len(self.layers)):\n",
    "            if i ==len(self.layers)-1:\n",
    "                print(self.layers[i], \"False\")\n",
    "                self.model.add(LSTM(units=self.layers[i], trainable=self.trainables[i], return_sequences=False, dropout=self.dropouts[i]))\n",
    "            else:\n",
    "                print(self.layers[i], \"True\")\n",
    "                self.model.add(LSTM(units=self.layers[i], trainable=self.trainables[i], return_sequences=True, dropout=self.dropouts[i]))\n",
    "            \n",
    "        # add another BatchNormalization layer, this time no need to specify input shape\n",
    "        self.model.add(BatchNormalization())\n",
    "        # Finally add an output layer, it should be a Dense layer with n_chars units and softmax activation. Also, this layer should be containd in a TimeDistributed layer, so that it can be applied to each character in the sequence.\n",
    "\n",
    "        # compile the model with Adam optimizer and categorical_crossentropy loss. Don't forget to set the learning rate to the value contained in the lr variable with optimizer = Adam(learning_rate=self.lr)\n",
    "        optimizer = Adam(learning_rate=self.lr)\n",
    "        self.model.compile(optimizer=optimizer, loss='categorical_crossentropy')"
   ]
  },
  {
   "cell_type": "code",
   "execution_count": 3,
   "metadata": {},
   "outputs": [],
   "source": [
    "#Same model as above but with a classifer head added \n",
    "class SeqModel():\n",
    "    def __init__(self, layers, n_chars, dropouts, trainables, lr):\n",
    "        self.layers = layers\n",
    "        self.n_chars = n_chars\n",
    "        self.dropouts = dropouts\n",
    "        self.trainables = trainables\n",
    "        self.lr = lr\n",
    "        self.model = None\n",
    "        self.build_model()\n",
    "        \n",
    "    def build_model(self):\n",
    "        # Core (shared)\n",
    "        LM_input = Input(shape=(None, self.n_chars), name='LM_input')\n",
    "        x = BatchNormalization()(LM_input)\n",
    "        \n",
    "        n_iter = 0\n",
    "        for neurons, dropout, trainable in zip(self.layers, self.dropouts, self.trainables):\n",
    "            if n_iter==len(self.layers)-1:\n",
    "                x = LSTM(neurons,\n",
    "                     unit_forget_bias=True,\n",
    "                     dropout=dropout,\n",
    "                     trainable=trainable,\n",
    "                     return_sequences=False)(x)\n",
    "            else:\n",
    "                x = LSTM(neurons,\n",
    "                         unit_forget_bias=True,\n",
    "                         dropout=dropout,\n",
    "                         trainable=trainable,\n",
    "                         return_sequences=True)(x)\n",
    "            n_iter+=1\n",
    "            \n",
    "        x = BatchNormalization()(x)\n",
    "        \n",
    "        # Head\n",
    "        r = Dropout(0.3)(x)                    \n",
    "        # Ranked classification, so sigmoid and\n",
    "        # multiple outputs\n",
    "        head_output = Dense(3, \n",
    "                            name='head_output',\n",
    "                            activation='sigmoid')(r)\n",
    "        # Join\n",
    "        self.model = Model(inputs=[LM_input], outputs=[head_output])\n",
    "        \n",
    "        # Compile\n",
    "        optimizer = Adam(learning_rate=self.lr)\n",
    "        self.model.compile(optimizer=optimizer,\n",
    "                           loss='binary_crossentropy')\n",
    "\n",
    "    "
   ]
  },
  {
   "cell_type": "code",
   "execution_count": 4,
   "metadata": {},
   "outputs": [],
   "source": [
    "import re\n",
    "import numpy as np\n",
    "import keras\n",
    "\n",
    "#Fixed parameters\n",
    "PROCESSING_FIXED = {'start_char': 'G', \n",
    "                    'end_char': 'E', \n",
    "                    'pad_char': 'A'}\n",
    "\n",
    "INDICES_TOKEN = {0: 'c',\n",
    "                 1: 'C',\n",
    "                 2: '(',\n",
    "                 3: ')',\n",
    "                 4: 'O',\n",
    "                 5: '1',\n",
    "                 6: '2',\n",
    "                 7: '=',\n",
    "                 8: 'N',\n",
    "                 9: '@',\n",
    "                 10: '[',\n",
    "                 11: ']',\n",
    "                 12: 'n',\n",
    "                 13: '3',\n",
    "                 14: 'H',\n",
    "                 15: 'F',\n",
    "                 16: '4',\n",
    "                 17: '-',\n",
    "                 18: 'S',\n",
    "                 19: 'Cl',\n",
    "                 20: '/',\n",
    "                 21: 's',\n",
    "                 22: 'o',\n",
    "                 23: '5',\n",
    "                 24: '+',\n",
    "                 25: '#',\n",
    "                 26: '\\\\',\n",
    "                 27: 'Br',\n",
    "                 28: 'P',\n",
    "                 29: '6',\n",
    "                 30: 'I',\n",
    "                 31: '7',\n",
    "                 32: PROCESSING_FIXED['start_char'],\n",
    "                 33: PROCESSING_FIXED['end_char'],\n",
    "                 34: PROCESSING_FIXED['pad_char']}                \n",
    "TOKEN_INDICES = {v: k for k, v in INDICES_TOKEN.items()}\n",
    "\n",
    "def smi_tokenizer(smi):\n",
    "    \"\"\"\n",
    "    Tokenize a SMILES\n",
    "    \"\"\"\n",
    "    pattern =  \"(\\[|\\]|Xe|Ba|Rb|Ra|Sr|Dy|Li|Kr|Bi|Mn|He|Am|Pu|Cm|Pm|Ne|Th|Ni|Pr|Fe|Lu|Pa|Fm|Tm|Tb|Er|Be|Al|Gd|Eu|te|As|Pt|Lr|Sm|Ca|La|Ti|Te|Ac|Si|Cf|Rf|Na|Cu|Au|Nd|Ag|Se|se|Zn|Mg|Br|Cl|U|V|K|C|B|H|N|O|S|P|F|I|b|c|n|o|s|p|\\(|\\)|\\.|=|#|-|\\+|\\\\\\\\|\\/|:|~|@|\\?|>|\\*|\\$|\\%\\d{2}|\\d)\"\n",
    "    regex = re.compile(pattern)\n",
    "    tokens = [token for token in regex.findall(smi)]\n",
    "\n",
    "    return tokens        \n",
    "\n",
    "class onehotencoder():\n",
    "    def __init__(self, max_chars=90):\n",
    "        # here we define the class variables that will be used in the functions. If we want to use them in the class, we need to use self. in front of the variable name\n",
    "        # then when we want to use the class variable in the function, we pass self as the first argument to the function and we can access the class variables\n",
    "        self.max_chars = max_chars\n",
    "    def smiles_to_num(self, smiles):\n",
    "        tokens = smi_tokenizer(smiles)\n",
    "        tokens = [PROCESSING_FIXED['start_char']] + tokens +[PROCESSING_FIXED['end_char']]\n",
    "        tokens+= [PROCESSING_FIXED['pad_char']]* (self.max_chars-len(tokens))\n",
    "        num_tokens = [TOKEN_INDICES[t] for t in tokens]\n",
    "        #print(tokens)\n",
    "        #create numbers\n",
    "        return np.asarray(tokens) #Return the numbers as a numpy array\n",
    "    def num_to_onehot(self,tokens):\n",
    "        onehot = np.zeros((len(tokens), len(INDICES_TOKEN)))\n",
    "        for i,token in enumerate(tokens):\n",
    "            onehot[i, TOKEN_INDICES[token]] = 1\n",
    "        return onehot\n",
    "        #This function will convert the numbers to one hot encoding. It should take a list of numbers and return a list of one hot encoded vectors with the shape (max_chars, 35)\n",
    "    def generate_data(self, smiles):\n",
    "        nums = self.smiles_to_num(smiles)\n",
    "        data = self.num_to_onehot(nums)\n",
    "        return np.asarray(data)\n",
    "        #This function should take a list of smiles strings and return a numpy array of one hot encoded vectors with the shape (number of smiles, max_chars, 35)\n",
    "        #You can use the smiles_to_num and num_to_onehot functions to help you with this\n",
    "        #This function will be used to generate the training and validation data\n"
   ]
  },
  {
   "cell_type": "code",
   "execution_count": 5,
   "metadata": {},
   "outputs": [
    {
     "name": "stderr",
     "output_type": "stream",
     "text": [
      "WARNING: All log messages before absl::InitializeLog() is called are written to STDERR\n",
      "I0000 00:00:1727700452.972533     571 cuda_executor.cc:1001] could not open file to read NUMA node: /sys/bus/pci/devices/0000:01:00.0/numa_node\n",
      "Your kernel may have been built without NUMA support.\n",
      "I0000 00:00:1727700453.180824     571 cuda_executor.cc:1001] could not open file to read NUMA node: /sys/bus/pci/devices/0000:01:00.0/numa_node\n",
      "Your kernel may have been built without NUMA support.\n",
      "I0000 00:00:1727700453.180897     571 cuda_executor.cc:1001] could not open file to read NUMA node: /sys/bus/pci/devices/0000:01:00.0/numa_node\n",
      "Your kernel may have been built without NUMA support.\n",
      "I0000 00:00:1727700453.191684     571 cuda_executor.cc:1001] could not open file to read NUMA node: /sys/bus/pci/devices/0000:01:00.0/numa_node\n",
      "Your kernel may have been built without NUMA support.\n",
      "I0000 00:00:1727700453.191792     571 cuda_executor.cc:1001] could not open file to read NUMA node: /sys/bus/pci/devices/0000:01:00.0/numa_node\n",
      "Your kernel may have been built without NUMA support.\n",
      "I0000 00:00:1727700453.191840     571 cuda_executor.cc:1001] could not open file to read NUMA node: /sys/bus/pci/devices/0000:01:00.0/numa_node\n",
      "Your kernel may have been built without NUMA support.\n",
      "I0000 00:00:1727700455.956395     571 cuda_executor.cc:1001] could not open file to read NUMA node: /sys/bus/pci/devices/0000:01:00.0/numa_node\n",
      "Your kernel may have been built without NUMA support.\n",
      "I0000 00:00:1727700455.959080     571 cuda_executor.cc:1001] could not open file to read NUMA node: /sys/bus/pci/devices/0000:01:00.0/numa_node\n",
      "Your kernel may have been built without NUMA support.\n",
      "2024-09-30 13:47:35.960915: I tensorflow/core/common_runtime/gpu/gpu_device.cc:2112] Could not identify NUMA node of platform GPU id 0, defaulting to 0.  Your kernel may not have been built with NUMA support.\n",
      "I0000 00:00:1727700455.963755     571 cuda_executor.cc:1001] could not open file to read NUMA node: /sys/bus/pci/devices/0000:01:00.0/numa_node\n",
      "Your kernel may have been built without NUMA support.\n",
      "2024-09-30 13:47:35.968109: I tensorflow/core/common_runtime/gpu/gpu_device.cc:2021] Created device /job:localhost/replica:0/task:0/device:GPU:0 with 5345 MB memory:  -> device: 0, name: NVIDIA GeForce RTX 4060 Laptop GPU, pci bus id: 0000:01:00.0, compute capability: 8.9\n"
     ]
    },
    {
     "name": "stdout",
     "output_type": "stream",
     "text": [
      "model loaded\n"
     ]
    }
   ],
   "source": [
    "chem_model = load_model(f'../pretraining/LSTM/{48:03d}.keras') #load the model from file\n",
    "print('model loaded')"
   ]
  },
  {
   "cell_type": "code",
   "execution_count": 7,
   "metadata": {},
   "outputs": [
    {
     "name": "stderr",
     "output_type": "stream",
     "text": [
      "/tmp/ipykernel_571/3666820747.py:8: FutureWarning: Downcasting behavior in `replace` is deprecated and will be removed in a future version. To retain the old behavior, explicitly call `result.infer_objects(copy=False)`. To opt-in to the future behavior, set `pd.set_option('future.no_silent_downcasting', True)`\n",
      "  beta[\"activity_class\"] = beta[\"activity_class\"].replace(\"very_active\", 2)\n"
     ]
    }
   ],
   "source": [
    "beta = pd.read_csv('beta_activity_class.csv') #Clean CSV file with beta secretase smiles and activity\n",
    "beta[\"activity_class\"].value_counts()\n",
    "#dropna of activity_class\n",
    "beta = beta.dropna(subset=[\"activity_class\"])\n",
    "#transfor activity_class to 0,1,2\n",
    "beta[\"activity_class\"] = beta[\"activity_class\"].replace(\"moderately_active\", 1)\n",
    "beta[\"activity_class\"] = beta[\"activity_class\"].replace(\"inactive\", 0)\n",
    "beta[\"activity_class\"] = beta[\"activity_class\"].replace(\"very_active\", 2)\n"
   ]
  },
  {
   "cell_type": "code",
   "execution_count": 8,
   "metadata": {},
   "outputs": [
    {
     "data": {
      "text/html": [
       "<div>\n",
       "<style scoped>\n",
       "    .dataframe tbody tr th:only-of-type {\n",
       "        vertical-align: middle;\n",
       "    }\n",
       "\n",
       "    .dataframe tbody tr th {\n",
       "        vertical-align: top;\n",
       "    }\n",
       "\n",
       "    .dataframe thead th {\n",
       "        text-align: right;\n",
       "    }\n",
       "</style>\n",
       "<table border=\"1\" class=\"dataframe\">\n",
       "  <thead>\n",
       "    <tr style=\"text-align: right;\">\n",
       "      <th></th>\n",
       "      <th>Ligand SMILES</th>\n",
       "      <th>activity_class</th>\n",
       "    </tr>\n",
       "  </thead>\n",
       "  <tbody>\n",
       "    <tr>\n",
       "      <th>0</th>\n",
       "      <td>CCSc1cnc(cn1)C(=O)Nc1cccc(c1)[C@]1(C)CCSC(N)=N1</td>\n",
       "      <td>1</td>\n",
       "    </tr>\n",
       "    <tr>\n",
       "      <th>1</th>\n",
       "      <td>C[C@]1(CCSC(N)=N1)c1cc(NC(=O)CCc2ccc(O)c(O)c2)...</td>\n",
       "      <td>1</td>\n",
       "    </tr>\n",
       "    <tr>\n",
       "      <th>2</th>\n",
       "      <td>COc1nc(nc(C)c1F)N1C[C@H]2C(=O)N(C)C(=N)N[C@]2(...</td>\n",
       "      <td>1</td>\n",
       "    </tr>\n",
       "    <tr>\n",
       "      <th>3</th>\n",
       "      <td>COc1nc(nc(C)c1F)N1C[C@H]2C(=O)N(C)C(=N)N[C@]2(...</td>\n",
       "      <td>1</td>\n",
       "    </tr>\n",
       "    <tr>\n",
       "      <th>4</th>\n",
       "      <td>COc1nc(nc(C)c1F)N1C[C@H]2C(=O)N(C)C(=N)N[C@]2(...</td>\n",
       "      <td>1</td>\n",
       "    </tr>\n",
       "    <tr>\n",
       "      <th>...</th>\n",
       "      <td>...</td>\n",
       "      <td>...</td>\n",
       "    </tr>\n",
       "    <tr>\n",
       "      <th>15992</th>\n",
       "      <td>FC(F)(F)c1ccc(N\\N=C\\c2coc3cc4oc(cc4cc3c2=O)-c2...</td>\n",
       "      <td>0</td>\n",
       "    </tr>\n",
       "    <tr>\n",
       "      <th>15993</th>\n",
       "      <td>COc1ccc(cc1)-c1cc2cc3c(cc2o1)occ(\\C=N\\Nc1ccc(c...</td>\n",
       "      <td>0</td>\n",
       "    </tr>\n",
       "    <tr>\n",
       "      <th>15994</th>\n",
       "      <td>COc1ccc(CN(CCN(C)CCN)c2ccccn2)cc1</td>\n",
       "      <td>0</td>\n",
       "    </tr>\n",
       "    <tr>\n",
       "      <th>15995</th>\n",
       "      <td>Fc1cccc(c1)-c1cc2c(ccc3c2occ(\\C=N\\Nc2ccc(cc2)C...</td>\n",
       "      <td>0</td>\n",
       "    </tr>\n",
       "    <tr>\n",
       "      <th>15996</th>\n",
       "      <td>CCC(=O)CNC(=O)Nc1nc2ccc(cc2s1)-c1oc2c(OC)c(O)c...</td>\n",
       "      <td>1</td>\n",
       "    </tr>\n",
       "  </tbody>\n",
       "</table>\n",
       "<p>13155 rows × 2 columns</p>\n",
       "</div>"
      ],
      "text/plain": [
       "                                           Ligand SMILES  activity_class\n",
       "0        CCSc1cnc(cn1)C(=O)Nc1cccc(c1)[C@]1(C)CCSC(N)=N1               1\n",
       "1      C[C@]1(CCSC(N)=N1)c1cc(NC(=O)CCc2ccc(O)c(O)c2)...               1\n",
       "2      COc1nc(nc(C)c1F)N1C[C@H]2C(=O)N(C)C(=N)N[C@]2(...               1\n",
       "3      COc1nc(nc(C)c1F)N1C[C@H]2C(=O)N(C)C(=N)N[C@]2(...               1\n",
       "4      COc1nc(nc(C)c1F)N1C[C@H]2C(=O)N(C)C(=N)N[C@]2(...               1\n",
       "...                                                  ...             ...\n",
       "15992  FC(F)(F)c1ccc(N\\N=C\\c2coc3cc4oc(cc4cc3c2=O)-c2...               0\n",
       "15993  COc1ccc(cc1)-c1cc2cc3c(cc2o1)occ(\\C=N\\Nc1ccc(c...               0\n",
       "15994                  COc1ccc(CN(CCN(C)CCN)c2ccccn2)cc1               0\n",
       "15995  Fc1cccc(c1)-c1cc2c(ccc3c2occ(\\C=N\\Nc2ccc(cc2)C...               0\n",
       "15996  CCC(=O)CNC(=O)Nc1nc2ccc(cc2s1)-c1oc2c(OC)c(O)c...               1\n",
       "\n",
       "[13155 rows x 2 columns]"
      ]
     },
     "execution_count": 8,
     "metadata": {},
     "output_type": "execute_result"
    }
   ],
   "source": [
    "beta"
   ]
  },
  {
   "cell_type": "code",
   "execution_count": 9,
   "metadata": {},
   "outputs": [],
   "source": [
    "#Also, remove any smiles string that contains a character NOT in our vocabulary (excluding pad, start and end chars). Hint: allowed_chars = [t for t in TOKEN_INDICES.keys()][:-3]\n",
    "allowed_chars = [t for t in TOKEN_INDICES.keys()][:-3]\n",
    "beta = beta[beta['Ligand SMILES'].apply(lambda x: all(char in allowed_chars for char in x))]\n",
    "#drop data longer than 90 characters\n",
    "beta = beta[beta['Ligand SMILES'].apply(lambda x: len(x)<=90)]"
   ]
  },
  {
   "cell_type": "code",
   "execution_count": 10,
   "metadata": {},
   "outputs": [
    {
     "data": {
      "text/html": [
       "<div>\n",
       "<style scoped>\n",
       "    .dataframe tbody tr th:only-of-type {\n",
       "        vertical-align: middle;\n",
       "    }\n",
       "\n",
       "    .dataframe tbody tr th {\n",
       "        vertical-align: top;\n",
       "    }\n",
       "\n",
       "    .dataframe thead th {\n",
       "        text-align: right;\n",
       "    }\n",
       "</style>\n",
       "<table border=\"1\" class=\"dataframe\">\n",
       "  <thead>\n",
       "    <tr style=\"text-align: right;\">\n",
       "      <th></th>\n",
       "      <th>Ligand SMILES</th>\n",
       "      <th>activity_class</th>\n",
       "    </tr>\n",
       "  </thead>\n",
       "  <tbody>\n",
       "    <tr>\n",
       "      <th>0</th>\n",
       "      <td>CCSc1cnc(cn1)C(=O)Nc1cccc(c1)[C@]1(C)CCSC(N)=N1</td>\n",
       "      <td>1</td>\n",
       "    </tr>\n",
       "    <tr>\n",
       "      <th>1</th>\n",
       "      <td>C[C@]1(CCSC(N)=N1)c1cc(NC(=O)CCc2ccc(O)c(O)c2)...</td>\n",
       "      <td>1</td>\n",
       "    </tr>\n",
       "    <tr>\n",
       "      <th>2</th>\n",
       "      <td>COc1nc(nc(C)c1F)N1C[C@H]2C(=O)N(C)C(=N)N[C@]2(...</td>\n",
       "      <td>1</td>\n",
       "    </tr>\n",
       "    <tr>\n",
       "      <th>5</th>\n",
       "      <td>Nc1ccc2ccccc2n1</td>\n",
       "      <td>0</td>\n",
       "    </tr>\n",
       "    <tr>\n",
       "      <th>6</th>\n",
       "      <td>Nc1cccc(CCc2ccccc2)n1</td>\n",
       "      <td>0</td>\n",
       "    </tr>\n",
       "    <tr>\n",
       "      <th>...</th>\n",
       "      <td>...</td>\n",
       "      <td>...</td>\n",
       "    </tr>\n",
       "    <tr>\n",
       "      <th>15991</th>\n",
       "      <td>Fc1cccc(c1)-c1cc2cc3c(cc2o1)occ(\\C=N\\Nc1ccc(cc...</td>\n",
       "      <td>0</td>\n",
       "    </tr>\n",
       "    <tr>\n",
       "      <th>15993</th>\n",
       "      <td>COc1ccc(cc1)-c1cc2cc3c(cc2o1)occ(\\C=N\\Nc1ccc(c...</td>\n",
       "      <td>0</td>\n",
       "    </tr>\n",
       "    <tr>\n",
       "      <th>15994</th>\n",
       "      <td>COc1ccc(CN(CCN(C)CCN)c2ccccn2)cc1</td>\n",
       "      <td>0</td>\n",
       "    </tr>\n",
       "    <tr>\n",
       "      <th>15995</th>\n",
       "      <td>Fc1cccc(c1)-c1cc2c(ccc3c2occ(\\C=N\\Nc2ccc(cc2)C...</td>\n",
       "      <td>0</td>\n",
       "    </tr>\n",
       "    <tr>\n",
       "      <th>15996</th>\n",
       "      <td>CCC(=O)CNC(=O)Nc1nc2ccc(cc2s1)-c1oc2c(OC)c(O)c...</td>\n",
       "      <td>1</td>\n",
       "    </tr>\n",
       "  </tbody>\n",
       "</table>\n",
       "<p>9300 rows × 2 columns</p>\n",
       "</div>"
      ],
      "text/plain": [
       "                                           Ligand SMILES  activity_class\n",
       "0        CCSc1cnc(cn1)C(=O)Nc1cccc(c1)[C@]1(C)CCSC(N)=N1               1\n",
       "1      C[C@]1(CCSC(N)=N1)c1cc(NC(=O)CCc2ccc(O)c(O)c2)...               1\n",
       "2      COc1nc(nc(C)c1F)N1C[C@H]2C(=O)N(C)C(=N)N[C@]2(...               1\n",
       "5                                        Nc1ccc2ccccc2n1               0\n",
       "6                                  Nc1cccc(CCc2ccccc2)n1               0\n",
       "...                                                  ...             ...\n",
       "15991  Fc1cccc(c1)-c1cc2cc3c(cc2o1)occ(\\C=N\\Nc1ccc(cc...               0\n",
       "15993  COc1ccc(cc1)-c1cc2cc3c(cc2o1)occ(\\C=N\\Nc1ccc(c...               0\n",
       "15994                  COc1ccc(CN(CCN(C)CCN)c2ccccn2)cc1               0\n",
       "15995  Fc1cccc(c1)-c1cc2c(ccc3c2occ(\\C=N\\Nc2ccc(cc2)C...               0\n",
       "15996  CCC(=O)CNC(=O)Nc1nc2ccc(cc2s1)-c1oc2c(OC)c(O)c...               1\n",
       "\n",
       "[9300 rows x 2 columns]"
      ]
     },
     "execution_count": 10,
     "metadata": {},
     "output_type": "execute_result"
    }
   ],
   "source": [
    "beta"
   ]
  },
  {
   "cell_type": "code",
   "execution_count": 11,
   "metadata": {},
   "outputs": [
    {
     "name": "stderr",
     "output_type": "stream",
     "text": [
      "/home/scro4068/.local/lib/python3.10/site-packages/keras/src/layers/normalization/batch_normalization.py:143: UserWarning: Do not pass an `input_shape`/`input_dim` argument to a layer. When using Sequential models, prefer using an `Input(shape)` object as the first layer in the model instead.\n",
      "  super().__init__(**kwargs)\n"
     ]
    },
    {
     "name": "stdout",
     "output_type": "stream",
     "text": [
      "[1024, 256]\n",
      "1024 True\n",
      "256 False\n",
      "model created\n"
     ]
    }
   ],
   "source": [
    "#compile the new model\n",
    "layers = [1024,256]\n",
    "dropouts = [0.40, 0.40]\n",
    "trainables = [True, True]\n",
    "lr = 0.001\n",
    "epochs = 80\n",
    "new_model = CLM(\n",
    "    layers=layers,\n",
    "    dropouts=dropouts,\n",
    "    trainables=trainables,\n",
    "    lr=lr,\n",
    "    n_chars=35\n",
    "    )\n",
    "print('model created')\n"
   ]
  },
  {
   "cell_type": "code",
   "execution_count": 12,
   "metadata": {},
   "outputs": [
    {
     "data": {
      "text/plain": [
       "[<BatchNormalization name=batch_normalization_2, built=True>,\n",
       " <LSTM name=lstm_2, built=True>,\n",
       " <LSTM name=lstm_3, built=True>,\n",
       " <BatchNormalization name=batch_normalization_3, built=True>,\n",
       " <TimeDistributed name=time_distributed_1, built=True>]"
      ]
     },
     "execution_count": 12,
     "metadata": {},
     "output_type": "execute_result"
    }
   ],
   "source": [
    "chem_model.layers"
   ]
  },
  {
   "cell_type": "code",
   "execution_count": 13,
   "metadata": {},
   "outputs": [
    {
     "data": {
      "text/plain": [
       "[<BatchNormalization name=batch_normalization, built=True>,\n",
       " <LSTM name=lstm, built=True>,\n",
       " <LSTM name=lstm_1, built=True>,\n",
       " <BatchNormalization name=batch_normalization_1, built=True>]"
      ]
     },
     "execution_count": 13,
     "metadata": {},
     "output_type": "execute_result"
    }
   ],
   "source": [
    "new_model.model.layers"
   ]
  },
  {
   "cell_type": "code",
   "execution_count": 14,
   "metadata": {},
   "outputs": [
    {
     "name": "stdout",
     "output_type": "stream",
     "text": [
      "Pretrained layer 0 loaded in layer 0\n",
      "Pretrained layer 1 loaded in layer 1\n",
      "Pretrained layer 2 loaded in layer 2\n",
      "Pretrained layer 3 loaded in layer 3\n"
     ]
    }
   ],
   "source": [
    "#Set the weights of the pretrained model to the new model\n",
    "n_l_pre = len(chem_model.layers)\n",
    "for i,layer in enumerate(chem_model.layers):\n",
    "    if i!=n_l_pre-1:\n",
    "        weights = layer.get_weights()\n",
    "        idx_layer = i\n",
    "        new_model.model.layers[idx_layer].set_weights(weights)\n",
    "        print(f'Pretrained layer {i} loaded in layer {idx_layer}')"
   ]
  },
  {
   "cell_type": "code",
   "execution_count": 21,
   "metadata": {},
   "outputs": [],
   "source": [
    "#Data upsampling using random oversampling to fix class imbalance. See https://www.ibm.com/topics/upsampling#:~:text=Upsampling%20increases%20the%20number%20of,and%20thereby%20improve%20model%20performance.\n",
    "def up_sample(data, target, dict_n):\n",
    "    \"\"\"\n",
    "    Return an up sampled version of \n",
    "    data and target according to dict_n\n",
    "    - Dict_n (dict): \n",
    "        key: class to augment\n",
    "        value: n data to randomly sample\n",
    "    \"\"\"\n",
    "    \n",
    "    # form a dict with key:class, value:idx_smi\n",
    "    dict_byclass_smi = {}\n",
    "    i=0\n",
    "    for smi,clas in zip(data,target):\n",
    "        if clas in dict_byclass_smi:\n",
    "            dict_byclass_smi[clas].append(i)\n",
    "        else:\n",
    "            dict_byclass_smi[clas] = [i]\n",
    "        i+=1\n",
    "    \n",
    "    smi_to_add = []\n",
    "    tar_to_add = []\n",
    "    for class_,n in dict_n.items():\n",
    "        if n>0:\n",
    "            for n_ in range(n):\n",
    "                idx_picked = np.random.choice(dict_byclass_smi[class_])\n",
    "                smi_to_add.append(data[idx_picked])\n",
    "                tar_to_add.append(target[idx_picked])\n",
    "                \n",
    "    return data+smi_to_add, target+tar_to_add"
   ]
  },
  {
   "cell_type": "code",
   "execution_count": 19,
   "metadata": {},
   "outputs": [
    {
     "data": {
      "text/plain": [
       "activity_class\n",
       "1    6591\n",
       "2    1638\n",
       "0    1071\n",
       "Name: count, dtype: int64"
      ]
     },
     "execution_count": 19,
     "metadata": {},
     "output_type": "execute_result"
    }
   ],
   "source": [
    "beta['activity_class'].value_counts() #Samples per class before upsampling"
   ]
  },
  {
   "cell_type": "code",
   "execution_count": 22,
   "metadata": {},
   "outputs": [
    {
     "name": "stdout",
     "output_type": "stream",
     "text": [
      "\n",
      "Up values dict:  {0: 5000, 1: 0, 2: 5000}\n"
     ]
    }
   ],
   "source": [
    "#Upsample the data, add 5000 to class 0 and class 2\n",
    "upvalues = [5000,0,5000]\n",
    "dict_upvalues = dict(enumerate(upvalues))\n",
    "print(f'\\nUp values dict: ', dict_upvalues)\n",
    "tr_input, tr_output = up_sample(beta['Ligand SMILES'].values.tolist(), beta['activity_class'].values.tolist(), dict_upvalues)"
   ]
  },
  {
   "cell_type": "code",
   "execution_count": 23,
   "metadata": {},
   "outputs": [],
   "source": [
    "new_df = pd.DataFrame({'Ligand SMILES':tr_input, 'activity_class':tr_output})"
   ]
  },
  {
   "cell_type": "code",
   "execution_count": 24,
   "metadata": {},
   "outputs": [
    {
     "data": {
      "text/plain": [
       "activity_class\n",
       "2    6638\n",
       "1    6591\n",
       "0    6071\n",
       "Name: count, dtype: int64"
      ]
     },
     "execution_count": 24,
     "metadata": {},
     "output_type": "execute_result"
    }
   ],
   "source": [
    "new_df['activity_class'].value_counts() #Samples per class after upsampling"
   ]
  },
  {
   "cell_type": "code",
   "execution_count": 25,
   "metadata": {},
   "outputs": [],
   "source": [
    "#list with the one hot vectors of the smiles\n",
    "encoder = onehotencoder(max_chars=92)\n",
    "smiles_arr = [encoder.generate_data(s) for s in new_df['Ligand SMILES']]\n",
    "inputs_x = np.zeros((new_df.shape[0],92,35))\n",
    "for i in range(new_df.shape[0]):\n",
    "    inputs_x[i] = smiles_arr[i]"
   ]
  },
  {
   "cell_type": "code",
   "execution_count": 16,
   "metadata": {},
   "outputs": [],
   "source": [
    "#Convert the label to ordinal regression, this will give the model an idea of the order of the classes\n",
    "def convert(label, n_output):\n",
    "    if n_output==3:\n",
    "        conv_dict = {0:np.array([1,0,0]),\n",
    "                    1:np.array([1,1,0]),\n",
    "                    2:np.array([1,1,1])}\n",
    "    return conv_dict[label]"
   ]
  },
  {
   "cell_type": "code",
   "execution_count": 31,
   "metadata": {},
   "outputs": [
    {
     "data": {
      "text/plain": [
       "1"
      ]
     },
     "execution_count": 31,
     "metadata": {},
     "output_type": "execute_result"
    }
   ],
   "source": [
    "beta['activity_class'][0] #Original label"
   ]
  },
  {
   "cell_type": "code",
   "execution_count": 27,
   "metadata": {},
   "outputs": [
    {
     "data": {
      "text/plain": [
       "(19300, 3)"
      ]
     },
     "execution_count": 27,
     "metadata": {},
     "output_type": "execute_result"
    }
   ],
   "source": [
    "labels = [convert(b, 3) for b in new_df['activity_class']] \n",
    "labels = np.array(labels)\n",
    "labels.shape"
   ]
  },
  {
   "cell_type": "code",
   "execution_count": 111,
   "metadata": {},
   "outputs": [
    {
     "data": {
      "text/plain": [
       "array([1, 1, 0])"
      ]
     },
     "execution_count": 111,
     "metadata": {},
     "output_type": "execute_result"
    }
   ],
   "source": [
    "labels[0] #Converted label"
   ]
  },
  {
   "cell_type": "code",
   "execution_count": 22,
   "metadata": {},
   "outputs": [],
   "source": [
    "'''X_train, X_test, y_train, y_test = train_test_split(features, new_df['activity_class'].values, test_size=0.2)\n",
    "#get the indices of the test and train data\n",
    "train_indices = np.where(np.isin(features, X_train).all(axis=1))[0]\n",
    "test_indices = np.where(np.isin(features, X_test).all(axis=1))[0]\n",
    "np.savetxt('train_indices.csv', train_indices, delimiter=',')\n",
    "np.savetxt('test_indices.csv', test_indices, delimiter=',')'''"
   ]
  },
  {
   "cell_type": "code",
   "execution_count": 28,
   "metadata": {},
   "outputs": [
    {
     "name": "stderr",
     "output_type": "stream",
     "text": [
      "/tmp/ipykernel_571/46384760.py:1: DeprecationWarning: loadtxt(): Parsing an integer via a float is deprecated.  To avoid this warning, you can:\n",
      "    * make sure the original data is stored as integers.\n",
      "    * use the `converters=` keyword argument.  If you only use\n",
      "      NumPy 1.23 or later, `converters=float` will normally work.\n",
      "    * Use `np.loadtxt(...).astype(np.int64)` parsing the file as\n",
      "      floating point and then convert it.  (On all NumPy versions.)\n",
      "  (Deprecated NumPy 1.23)\n",
      "  train_indices = np.loadtxt('train_indices.csv', delimiter=',', dtype=int)\n",
      "/tmp/ipykernel_571/46384760.py:2: DeprecationWarning: loadtxt(): Parsing an integer via a float is deprecated.  To avoid this warning, you can:\n",
      "    * make sure the original data is stored as integers.\n",
      "    * use the `converters=` keyword argument.  If you only use\n",
      "      NumPy 1.23 or later, `converters=float` will normally work.\n",
      "    * Use `np.loadtxt(...).astype(np.int64)` parsing the file as\n",
      "      floating point and then convert it.  (On all NumPy versions.)\n",
      "  (Deprecated NumPy 1.23)\n",
      "  test_indices = np.loadtxt('test_indices.csv', delimiter=',', dtype=int)\n"
     ]
    }
   ],
   "source": [
    "#Data was split, but I saved the indices of each split to keep the same data across different models\n",
    "train_indices = np.loadtxt('train_indices.csv', delimiter=',', dtype=int)\n",
    "test_indices = np.loadtxt('test_indices.csv', delimiter=',', dtype=int)"
   ]
  },
  {
   "cell_type": "code",
   "execution_count": 48,
   "metadata": {},
   "outputs": [],
   "source": [
    "#select the features of the train and test data by the indices\n",
    "X_train = inputs_x[train_indices]\n",
    "X_test =  inputs_x[test_indices]  \n",
    "#select the labels of the train and test data by the indices\n",
    "y_train = labels[train_indices] \n",
    "y_test = labels[test_indices] "
   ]
  },
  {
   "cell_type": "code",
   "execution_count": 17,
   "metadata": {},
   "outputs": [
    {
     "name": "stdout",
     "output_type": "stream",
     "text": [
      "model created\n"
     ]
    }
   ],
   "source": [
    "#compile the new model\n",
    "layers = [1024,256]\n",
    "dropouts = [0.40, 0.40]\n",
    "trainables = [True, True]\n",
    "lr = 0.0001\n",
    "epochs = 80\n",
    "seqmodel = SeqModel(\n",
    "    layers=layers,\n",
    "    dropouts=dropouts,\n",
    "    trainables=trainables,\n",
    "    lr=lr,\n",
    "    n_chars=35\n",
    "    )\n",
    "print('model created')"
   ]
  },
  {
   "cell_type": "code",
   "execution_count": 18,
   "metadata": {},
   "outputs": [
    {
     "name": "stdout",
     "output_type": "stream",
     "text": [
      "Pretrained layer 0 loaded in layer 1\n",
      "Pretrained layer 1 loaded in layer 2\n",
      "Pretrained layer 2 loaded in layer 3\n",
      "Pretrained layer 3 loaded in layer 4\n"
     ]
    }
   ],
   "source": [
    "#Set the weights of the pretrained model to the new model\n",
    "n_l_pre = len(chem_model.layers)\n",
    "for i,layer in enumerate(chem_model.layers):\n",
    "    if i!=n_l_pre-1:\n",
    "        weights = layer.get_weights()\n",
    "        # +1 because of the input layer added\n",
    "        layer_shift = 1\n",
    "        idx_layer = i+layer_shift\n",
    "        seqmodel.model.layers[idx_layer].set_weights(weights)\n",
    "        print(f'Pretrained layer {i} loaded in layer {idx_layer}')"
   ]
  },
  {
   "cell_type": "code",
   "execution_count": 33,
   "metadata": {},
   "outputs": [
    {
     "name": "stdout",
     "output_type": "stream",
     "text": [
      "Epoch 1/200\n",
      "\u001b[1m618/618\u001b[0m \u001b[32m━━━━━━━━━━━━━━━━━━━━\u001b[0m\u001b[37m\u001b[0m \u001b[1m25s\u001b[0m 40ms/step - loss: 0.1179 - val_loss: 0.2113\n",
      "Epoch 2/200\n",
      "\u001b[1m618/618\u001b[0m \u001b[32m━━━━━━━━━━━━━━━━━━━━\u001b[0m\u001b[37m\u001b[0m \u001b[1m24s\u001b[0m 38ms/step - loss: 0.1124 - val_loss: 0.2046\n",
      "Epoch 3/200\n",
      "\u001b[1m618/618\u001b[0m \u001b[32m━━━━━━━━━━━━━━━━━━━━\u001b[0m\u001b[37m\u001b[0m \u001b[1m24s\u001b[0m 39ms/step - loss: 0.1112 - val_loss: 0.1838\n",
      "Epoch 4/200\n",
      "\u001b[1m618/618\u001b[0m \u001b[32m━━━━━━━━━━━━━━━━━━━━\u001b[0m\u001b[37m\u001b[0m \u001b[1m24s\u001b[0m 38ms/step - loss: 0.1152 - val_loss: 0.2028\n",
      "Epoch 5/200\n",
      "\u001b[1m618/618\u001b[0m \u001b[32m━━━━━━━━━━━━━━━━━━━━\u001b[0m\u001b[37m\u001b[0m \u001b[1m23s\u001b[0m 38ms/step - loss: 0.1085 - val_loss: 0.2008\n",
      "Epoch 6/200\n",
      "\u001b[1m618/618\u001b[0m \u001b[32m━━━━━━━━━━━━━━━━━━━━\u001b[0m\u001b[37m\u001b[0m \u001b[1m24s\u001b[0m 39ms/step - loss: 0.1151 - val_loss: 0.1363\n",
      "Epoch 7/200\n",
      "\u001b[1m618/618\u001b[0m \u001b[32m━━━━━━━━━━━━━━━━━━━━\u001b[0m\u001b[37m\u001b[0m \u001b[1m22s\u001b[0m 36ms/step - loss: 0.1110 - val_loss: 0.2363\n",
      "Epoch 8/200\n",
      "\u001b[1m618/618\u001b[0m \u001b[32m━━━━━━━━━━━━━━━━━━━━\u001b[0m\u001b[37m\u001b[0m \u001b[1m22s\u001b[0m 35ms/step - loss: 0.1054 - val_loss: 0.2393\n",
      "Epoch 9/200\n",
      "\u001b[1m618/618\u001b[0m \u001b[32m━━━━━━━━━━━━━━━━━━━━\u001b[0m\u001b[37m\u001b[0m \u001b[1m22s\u001b[0m 35ms/step - loss: 0.1051 - val_loss: 0.1915\n",
      "Epoch 10/200\n",
      "\u001b[1m618/618\u001b[0m \u001b[32m━━━━━━━━━━━━━━━━━━━━\u001b[0m\u001b[37m\u001b[0m \u001b[1m23s\u001b[0m 37ms/step - loss: 0.1096 - val_loss: 0.1851\n",
      "Epoch 11/200\n",
      "\u001b[1m618/618\u001b[0m \u001b[32m━━━━━━━━━━━━━━━━━━━━\u001b[0m\u001b[37m\u001b[0m \u001b[1m22s\u001b[0m 36ms/step - loss: 0.1028 - val_loss: 0.1904\n",
      "Epoch 12/200\n",
      "\u001b[1m618/618\u001b[0m \u001b[32m━━━━━━━━━━━━━━━━━━━━\u001b[0m\u001b[37m\u001b[0m \u001b[1m23s\u001b[0m 38ms/step - loss: 0.1082 - val_loss: 0.1735\n",
      "Epoch 13/200\n",
      "\u001b[1m618/618\u001b[0m \u001b[32m━━━━━━━━━━━━━━━━━━━━\u001b[0m\u001b[37m\u001b[0m \u001b[1m23s\u001b[0m 37ms/step - loss: 0.0971 - val_loss: 0.1668\n",
      "Epoch 14/200\n",
      "\u001b[1m618/618\u001b[0m \u001b[32m━━━━━━━━━━━━━━━━━━━━\u001b[0m\u001b[37m\u001b[0m \u001b[1m23s\u001b[0m 38ms/step - loss: 0.1014 - val_loss: 0.1834\n",
      "Epoch 15/200\n",
      "\u001b[1m618/618\u001b[0m \u001b[32m━━━━━━━━━━━━━━━━━━━━\u001b[0m\u001b[37m\u001b[0m \u001b[1m22s\u001b[0m 36ms/step - loss: 0.0997 - val_loss: 0.1672\n",
      "Epoch 16/200\n",
      "\u001b[1m618/618\u001b[0m \u001b[32m━━━━━━━━━━━━━━━━━━━━\u001b[0m\u001b[37m\u001b[0m \u001b[1m23s\u001b[0m 38ms/step - loss: 0.0994 - val_loss: 0.1703\n",
      "Epoch 17/200\n",
      "\u001b[1m618/618\u001b[0m \u001b[32m━━━━━━━━━━━━━━━━━━━━\u001b[0m\u001b[37m\u001b[0m \u001b[1m23s\u001b[0m 36ms/step - loss: 0.0972 - val_loss: 0.1533\n",
      "Epoch 18/200\n",
      "\u001b[1m618/618\u001b[0m \u001b[32m━━━━━━━━━━━━━━━━━━━━\u001b[0m\u001b[37m\u001b[0m \u001b[1m23s\u001b[0m 38ms/step - loss: 0.0996 - val_loss: 0.1679\n",
      "Epoch 19/200\n",
      "\u001b[1m618/618\u001b[0m \u001b[32m━━━━━━━━━━━━━━━━━━━━\u001b[0m\u001b[37m\u001b[0m \u001b[1m23s\u001b[0m 38ms/step - loss: 0.0941 - val_loss: 0.1614\n",
      "Epoch 20/200\n",
      "\u001b[1m618/618\u001b[0m \u001b[32m━━━━━━━━━━━━━━━━━━━━\u001b[0m\u001b[37m\u001b[0m \u001b[1m23s\u001b[0m 38ms/step - loss: 0.0968 - val_loss: 0.1562\n",
      "Epoch 21/200\n",
      "\u001b[1m618/618\u001b[0m \u001b[32m━━━━━━━━━━━━━━━━━━━━\u001b[0m\u001b[37m\u001b[0m \u001b[1m24s\u001b[0m 38ms/step - loss: 0.0944 - val_loss: 0.1731\n",
      "Epoch 22/200\n",
      "\u001b[1m618/618\u001b[0m \u001b[32m━━━━━━━━━━━━━━━━━━━━\u001b[0m\u001b[37m\u001b[0m \u001b[1m23s\u001b[0m 38ms/step - loss: 0.0991 - val_loss: 0.1454\n",
      "Epoch 23/200\n",
      "\u001b[1m618/618\u001b[0m \u001b[32m━━━━━━━━━━━━━━━━━━━━\u001b[0m\u001b[37m\u001b[0m \u001b[1m23s\u001b[0m 38ms/step - loss: 0.0977 - val_loss: 0.1952\n",
      "Epoch 24/200\n",
      "\u001b[1m618/618\u001b[0m \u001b[32m━━━━━━━━━━━━━━━━━━━━\u001b[0m\u001b[37m\u001b[0m \u001b[1m23s\u001b[0m 38ms/step - loss: 0.0960 - val_loss: 0.1528\n",
      "Epoch 25/200\n",
      "\u001b[1m618/618\u001b[0m \u001b[32m━━━━━━━━━━━━━━━━━━━━\u001b[0m\u001b[37m\u001b[0m \u001b[1m23s\u001b[0m 38ms/step - loss: 0.0925 - val_loss: 0.2083\n",
      "Epoch 26/200\n",
      "\u001b[1m618/618\u001b[0m \u001b[32m━━━━━━━━━━━━━━━━━━━━\u001b[0m\u001b[37m\u001b[0m \u001b[1m23s\u001b[0m 37ms/step - loss: 0.0911 - val_loss: 0.1783\n",
      "Epoch 27/200\n",
      "\u001b[1m618/618\u001b[0m \u001b[32m━━━━━━━━━━━━━━━━━━━━\u001b[0m\u001b[37m\u001b[0m \u001b[1m24s\u001b[0m 39ms/step - loss: 0.0902 - val_loss: 0.1183\n",
      "Epoch 28/200\n",
      "\u001b[1m618/618\u001b[0m \u001b[32m━━━━━━━━━━━━━━━━━━━━\u001b[0m\u001b[37m\u001b[0m \u001b[1m24s\u001b[0m 38ms/step - loss: 0.0940 - val_loss: 0.1567\n",
      "Epoch 29/200\n",
      "\u001b[1m618/618\u001b[0m \u001b[32m━━━━━━━━━━━━━━━━━━━━\u001b[0m\u001b[37m\u001b[0m \u001b[1m23s\u001b[0m 38ms/step - loss: 0.0924 - val_loss: 0.1612\n",
      "Epoch 30/200\n",
      "\u001b[1m618/618\u001b[0m \u001b[32m━━━━━━━━━━━━━━━━━━━━\u001b[0m\u001b[37m\u001b[0m \u001b[1m24s\u001b[0m 38ms/step - loss: 0.0920 - val_loss: 0.1685\n",
      "Epoch 31/200\n",
      "\u001b[1m618/618\u001b[0m \u001b[32m━━━━━━━━━━━━━━━━━━━━\u001b[0m\u001b[37m\u001b[0m \u001b[1m23s\u001b[0m 38ms/step - loss: 0.0918 - val_loss: 0.1815\n",
      "Epoch 32/200\n",
      "\u001b[1m618/618\u001b[0m \u001b[32m━━━━━━━━━━━━━━━━━━━━\u001b[0m\u001b[37m\u001b[0m \u001b[1m23s\u001b[0m 38ms/step - loss: 0.0837 - val_loss: 0.1448\n",
      "Epoch 33/200\n",
      "\u001b[1m618/618\u001b[0m \u001b[32m━━━━━━━━━━━━━━━━━━━━\u001b[0m\u001b[37m\u001b[0m \u001b[1m24s\u001b[0m 38ms/step - loss: 0.0885 - val_loss: 0.1303\n",
      "Epoch 34/200\n",
      "\u001b[1m618/618\u001b[0m \u001b[32m━━━━━━━━━━━━━━━━━━━━\u001b[0m\u001b[37m\u001b[0m \u001b[1m24s\u001b[0m 39ms/step - loss: 0.0885 - val_loss: 0.1480\n",
      "Epoch 35/200\n",
      "\u001b[1m618/618\u001b[0m \u001b[32m━━━━━━━━━━━━━━━━━━━━\u001b[0m\u001b[37m\u001b[0m \u001b[1m23s\u001b[0m 38ms/step - loss: 0.0850 - val_loss: 0.1792\n",
      "Epoch 36/200\n",
      "\u001b[1m618/618\u001b[0m \u001b[32m━━━━━━━━━━━━━━━━━━━━\u001b[0m\u001b[37m\u001b[0m \u001b[1m24s\u001b[0m 39ms/step - loss: 0.0833 - val_loss: 0.1556\n",
      "Epoch 37/200\n",
      "\u001b[1m618/618\u001b[0m \u001b[32m━━━━━━━━━━━━━━━━━━━━\u001b[0m\u001b[37m\u001b[0m \u001b[1m24s\u001b[0m 38ms/step - loss: 0.0856 - val_loss: 0.1557\n",
      "Epoch 38/200\n",
      "\u001b[1m618/618\u001b[0m \u001b[32m━━━━━━━━━━━━━━━━━━━━\u001b[0m\u001b[37m\u001b[0m \u001b[1m23s\u001b[0m 37ms/step - loss: 0.0859 - val_loss: 0.1478\n",
      "Epoch 39/200\n",
      "\u001b[1m618/618\u001b[0m \u001b[32m━━━━━━━━━━━━━━━━━━━━\u001b[0m\u001b[37m\u001b[0m \u001b[1m22s\u001b[0m 36ms/step - loss: 0.0960 - val_loss: 0.1662\n",
      "Epoch 40/200\n",
      "\u001b[1m618/618\u001b[0m \u001b[32m━━━━━━━━━━━━━━━━━━━━\u001b[0m\u001b[37m\u001b[0m \u001b[1m23s\u001b[0m 38ms/step - loss: 0.0924 - val_loss: 0.1779\n",
      "Epoch 41/200\n",
      "\u001b[1m618/618\u001b[0m \u001b[32m━━━━━━━━━━━━━━━━━━━━\u001b[0m\u001b[37m\u001b[0m \u001b[1m24s\u001b[0m 38ms/step - loss: 0.0934 - val_loss: 0.1538\n",
      "Epoch 42/200\n",
      "\u001b[1m618/618\u001b[0m \u001b[32m━━━━━━━━━━━━━━━━━━━━\u001b[0m\u001b[37m\u001b[0m \u001b[1m24s\u001b[0m 39ms/step - loss: 0.0863 - val_loss: 0.1480\n",
      "Epoch 43/200\n",
      "\u001b[1m618/618\u001b[0m \u001b[32m━━━━━━━━━━━━━━━━━━━━\u001b[0m\u001b[37m\u001b[0m \u001b[1m23s\u001b[0m 37ms/step - loss: 0.0872 - val_loss: 0.1421\n",
      "Epoch 44/200\n",
      "\u001b[1m618/618\u001b[0m \u001b[32m━━━━━━━━━━━━━━━━━━━━\u001b[0m\u001b[37m\u001b[0m \u001b[1m23s\u001b[0m 37ms/step - loss: 0.0896 - val_loss: 0.1661\n",
      "Epoch 45/200\n",
      "\u001b[1m618/618\u001b[0m \u001b[32m━━━━━━━━━━━━━━━━━━━━\u001b[0m\u001b[37m\u001b[0m \u001b[1m23s\u001b[0m 37ms/step - loss: 0.0829 - val_loss: 0.1294\n",
      "Epoch 46/200\n",
      "\u001b[1m618/618\u001b[0m \u001b[32m━━━━━━━━━━━━━━━━━━━━\u001b[0m\u001b[37m\u001b[0m \u001b[1m23s\u001b[0m 38ms/step - loss: 0.0847 - val_loss: 0.1459\n",
      "Epoch 47/200\n",
      "\u001b[1m618/618\u001b[0m \u001b[32m━━━━━━━━━━━━━━━━━━━━\u001b[0m\u001b[37m\u001b[0m \u001b[1m23s\u001b[0m 38ms/step - loss: 0.0787 - val_loss: 0.1311\n",
      "Epoch 48/200\n",
      "\u001b[1m618/618\u001b[0m \u001b[32m━━━━━━━━━━━━━━━━━━━━\u001b[0m\u001b[37m\u001b[0m \u001b[1m22s\u001b[0m 36ms/step - loss: 0.0805 - val_loss: 0.1265\n",
      "Epoch 49/200\n",
      "\u001b[1m618/618\u001b[0m \u001b[32m━━━━━━━━━━━━━━━━━━━━\u001b[0m\u001b[37m\u001b[0m \u001b[1m23s\u001b[0m 37ms/step - loss: 0.0816 - val_loss: 0.1665\n",
      "Epoch 50/200\n",
      "\u001b[1m618/618\u001b[0m \u001b[32m━━━━━━━━━━━━━━━━━━━━\u001b[0m\u001b[37m\u001b[0m \u001b[1m23s\u001b[0m 38ms/step - loss: 0.0801 - val_loss: 0.1250\n",
      "Epoch 51/200\n",
      "\u001b[1m618/618\u001b[0m \u001b[32m━━━━━━━━━━━━━━━━━━━━\u001b[0m\u001b[37m\u001b[0m \u001b[1m24s\u001b[0m 39ms/step - loss: 0.0813 - val_loss: 0.1671\n",
      "Epoch 52/200\n",
      "\u001b[1m618/618\u001b[0m \u001b[32m━━━━━━━━━━━━━━━━━━━━\u001b[0m\u001b[37m\u001b[0m \u001b[1m24s\u001b[0m 38ms/step - loss: 0.0813 - val_loss: 0.1145\n",
      "Epoch 53/200\n",
      "\u001b[1m618/618\u001b[0m \u001b[32m━━━━━━━━━━━━━━━━━━━━\u001b[0m\u001b[37m\u001b[0m \u001b[1m24s\u001b[0m 39ms/step - loss: 0.0807 - val_loss: 0.1855\n",
      "Epoch 54/200\n",
      "\u001b[1m618/618\u001b[0m \u001b[32m━━━━━━━━━━━━━━━━━━━━\u001b[0m\u001b[37m\u001b[0m \u001b[1m23s\u001b[0m 38ms/step - loss: 0.0783 - val_loss: 0.1610\n",
      "Epoch 55/200\n",
      "\u001b[1m618/618\u001b[0m \u001b[32m━━━━━━━━━━━━━━━━━━━━\u001b[0m\u001b[37m\u001b[0m \u001b[1m23s\u001b[0m 37ms/step - loss: 0.0742 - val_loss: 0.1563\n",
      "Epoch 56/200\n",
      "\u001b[1m618/618\u001b[0m \u001b[32m━━━━━━━━━━━━━━━━━━━━\u001b[0m\u001b[37m\u001b[0m \u001b[1m24s\u001b[0m 38ms/step - loss: 0.0770 - val_loss: 0.1242\n",
      "Epoch 57/200\n",
      "\u001b[1m618/618\u001b[0m \u001b[32m━━━━━━━━━━━━━━━━━━━━\u001b[0m\u001b[37m\u001b[0m \u001b[1m24s\u001b[0m 38ms/step - loss: 0.0846 - val_loss: 0.1355\n",
      "Epoch 58/200\n",
      "\u001b[1m618/618\u001b[0m \u001b[32m━━━━━━━━━━━━━━━━━━━━\u001b[0m\u001b[37m\u001b[0m \u001b[1m23s\u001b[0m 37ms/step - loss: 0.0805 - val_loss: 0.1416\n",
      "Epoch 59/200\n",
      "\u001b[1m618/618\u001b[0m \u001b[32m━━━━━━━━━━━━━━━━━━━━\u001b[0m\u001b[37m\u001b[0m \u001b[1m23s\u001b[0m 38ms/step - loss: 0.0778 - val_loss: 0.1167\n",
      "Epoch 60/200\n",
      "\u001b[1m618/618\u001b[0m \u001b[32m━━━━━━━━━━━━━━━━━━━━\u001b[0m\u001b[37m\u001b[0m \u001b[1m23s\u001b[0m 37ms/step - loss: 0.0772 - val_loss: 0.1191\n",
      "Epoch 61/200\n",
      "\u001b[1m618/618\u001b[0m \u001b[32m━━━━━━━━━━━━━━━━━━━━\u001b[0m\u001b[37m\u001b[0m \u001b[1m22s\u001b[0m 36ms/step - loss: 0.0792 - val_loss: 0.1202\n",
      "Epoch 62/200\n",
      "\u001b[1m618/618\u001b[0m \u001b[32m━━━━━━━━━━━━━━━━━━━━\u001b[0m\u001b[37m\u001b[0m \u001b[1m23s\u001b[0m 38ms/step - loss: 0.0776 - val_loss: 0.1515\n",
      "Epoch 63/200\n",
      "\u001b[1m618/618\u001b[0m \u001b[32m━━━━━━━━━━━━━━━━━━━━\u001b[0m\u001b[37m\u001b[0m \u001b[1m23s\u001b[0m 37ms/step - loss: 0.0810 - val_loss: 0.1545\n",
      "Epoch 64/200\n",
      "\u001b[1m618/618\u001b[0m \u001b[32m━━━━━━━━━━━━━━━━━━━━\u001b[0m\u001b[37m\u001b[0m \u001b[1m22s\u001b[0m 36ms/step - loss: 0.0796 - val_loss: 0.1522\n",
      "Epoch 65/200\n",
      "\u001b[1m618/618\u001b[0m \u001b[32m━━━━━━━━━━━━━━━━━━━━\u001b[0m\u001b[37m\u001b[0m \u001b[1m22s\u001b[0m 36ms/step - loss: 0.0778 - val_loss: 0.1854\n",
      "Epoch 66/200\n",
      "\u001b[1m618/618\u001b[0m \u001b[32m━━━━━━━━━━━━━━━━━━━━\u001b[0m\u001b[37m\u001b[0m \u001b[1m22s\u001b[0m 36ms/step - loss: 0.0799 - val_loss: 0.1551\n",
      "Epoch 67/200\n",
      "\u001b[1m618/618\u001b[0m \u001b[32m━━━━━━━━━━━━━━━━━━━━\u001b[0m\u001b[37m\u001b[0m \u001b[1m23s\u001b[0m 37ms/step - loss: 0.0764 - val_loss: 0.1055\n",
      "Epoch 68/200\n",
      "\u001b[1m618/618\u001b[0m \u001b[32m━━━━━━━━━━━━━━━━━━━━\u001b[0m\u001b[37m\u001b[0m \u001b[1m22s\u001b[0m 36ms/step - loss: 0.0740 - val_loss: 0.1338\n",
      "Epoch 69/200\n",
      "\u001b[1m618/618\u001b[0m \u001b[32m━━━━━━━━━━━━━━━━━━━━\u001b[0m\u001b[37m\u001b[0m \u001b[1m22s\u001b[0m 36ms/step - loss: 0.0742 - val_loss: 0.1580\n",
      "Epoch 70/200\n",
      "\u001b[1m618/618\u001b[0m \u001b[32m━━━━━━━━━━━━━━━━━━━━\u001b[0m\u001b[37m\u001b[0m \u001b[1m23s\u001b[0m 37ms/step - loss: 0.0790 - val_loss: 0.1017\n",
      "Epoch 71/200\n",
      "\u001b[1m618/618\u001b[0m \u001b[32m━━━━━━━━━━━━━━━━━━━━\u001b[0m\u001b[37m\u001b[0m \u001b[1m24s\u001b[0m 39ms/step - loss: 0.0753 - val_loss: 0.1625\n",
      "Epoch 72/200\n",
      "\u001b[1m618/618\u001b[0m \u001b[32m━━━━━━━━━━━━━━━━━━━━\u001b[0m\u001b[37m\u001b[0m \u001b[1m24s\u001b[0m 40ms/step - loss: 0.0725 - val_loss: 0.1238\n",
      "Epoch 73/200\n",
      "\u001b[1m618/618\u001b[0m \u001b[32m━━━━━━━━━━━━━━━━━━━━\u001b[0m\u001b[37m\u001b[0m \u001b[1m24s\u001b[0m 40ms/step - loss: 0.0762 - val_loss: 0.1604\n",
      "Epoch 74/200\n",
      "\u001b[1m618/618\u001b[0m \u001b[32m━━━━━━━━━━━━━━━━━━━━\u001b[0m\u001b[37m\u001b[0m \u001b[1m24s\u001b[0m 38ms/step - loss: 0.0756 - val_loss: 0.1540\n",
      "Epoch 75/200\n",
      "\u001b[1m618/618\u001b[0m \u001b[32m━━━━━━━━━━━━━━━━━━━━\u001b[0m\u001b[37m\u001b[0m \u001b[1m24s\u001b[0m 38ms/step - loss: 0.0750 - val_loss: 0.1557\n",
      "Epoch 76/200\n",
      "\u001b[1m618/618\u001b[0m \u001b[32m━━━━━━━━━━━━━━━━━━━━\u001b[0m\u001b[37m\u001b[0m \u001b[1m23s\u001b[0m 38ms/step - loss: 0.0753 - val_loss: 0.1170\n",
      "Epoch 77/200\n",
      "\u001b[1m618/618\u001b[0m \u001b[32m━━━━━━━━━━━━━━━━━━━━\u001b[0m\u001b[37m\u001b[0m \u001b[1m24s\u001b[0m 38ms/step - loss: 0.0690 - val_loss: 0.1499\n",
      "Epoch 78/200\n",
      "\u001b[1m618/618\u001b[0m \u001b[32m━━━━━━━━━━━━━━━━━━━━\u001b[0m\u001b[37m\u001b[0m \u001b[1m24s\u001b[0m 39ms/step - loss: 0.0737 - val_loss: 0.0967\n",
      "Epoch 79/200\n",
      "\u001b[1m618/618\u001b[0m \u001b[32m━━━━━━━━━━━━━━━━━━━━\u001b[0m\u001b[37m\u001b[0m \u001b[1m23s\u001b[0m 38ms/step - loss: 0.0734 - val_loss: 0.1504\n",
      "Epoch 80/200\n",
      "\u001b[1m618/618\u001b[0m \u001b[32m━━━━━━━━━━━━━━━━━━━━\u001b[0m\u001b[37m\u001b[0m \u001b[1m23s\u001b[0m 38ms/step - loss: 0.0701 - val_loss: 0.1198\n",
      "Epoch 81/200\n",
      "\u001b[1m618/618\u001b[0m \u001b[32m━━━━━━━━━━━━━━━━━━━━\u001b[0m\u001b[37m\u001b[0m \u001b[1m24s\u001b[0m 38ms/step - loss: 0.0693 - val_loss: 0.1229\n",
      "Epoch 82/200\n",
      "\u001b[1m618/618\u001b[0m \u001b[32m━━━━━━━━━━━━━━━━━━━━\u001b[0m\u001b[37m\u001b[0m \u001b[1m24s\u001b[0m 39ms/step - loss: 0.0760 - val_loss: 0.1001\n",
      "Epoch 83/200\n",
      "\u001b[1m618/618\u001b[0m \u001b[32m━━━━━━━━━━━━━━━━━━━━\u001b[0m\u001b[37m\u001b[0m \u001b[1m24s\u001b[0m 38ms/step - loss: 0.0714 - val_loss: 0.1233\n",
      "Epoch 84/200\n",
      "\u001b[1m618/618\u001b[0m \u001b[32m━━━━━━━━━━━━━━━━━━━━\u001b[0m\u001b[37m\u001b[0m \u001b[1m24s\u001b[0m 39ms/step - loss: 0.0700 - val_loss: 0.1360\n",
      "Epoch 85/200\n",
      "\u001b[1m618/618\u001b[0m \u001b[32m━━━━━━━━━━━━━━━━━━━━\u001b[0m\u001b[37m\u001b[0m \u001b[1m25s\u001b[0m 41ms/step - loss: 0.0715 - val_loss: 0.1265\n",
      "Epoch 86/200\n",
      "\u001b[1m618/618\u001b[0m \u001b[32m━━━━━━━━━━━━━━━━━━━━\u001b[0m\u001b[37m\u001b[0m \u001b[1m25s\u001b[0m 41ms/step - loss: 0.0694 - val_loss: 0.1231\n",
      "Epoch 87/200\n",
      "\u001b[1m618/618\u001b[0m \u001b[32m━━━━━━━━━━━━━━━━━━━━\u001b[0m\u001b[37m\u001b[0m \u001b[1m24s\u001b[0m 40ms/step - loss: 0.0727 - val_loss: 0.1197\n",
      "Epoch 88/200\n",
      "\u001b[1m618/618\u001b[0m \u001b[32m━━━━━━━━━━━━━━━━━━━━\u001b[0m\u001b[37m\u001b[0m \u001b[1m24s\u001b[0m 39ms/step - loss: 0.0738 - val_loss: 0.1316\n",
      "Epoch 89/200\n",
      "\u001b[1m618/618\u001b[0m \u001b[32m━━━━━━━━━━━━━━━━━━━━\u001b[0m\u001b[37m\u001b[0m \u001b[1m25s\u001b[0m 40ms/step - loss: 0.0660 - val_loss: 0.1247\n",
      "Epoch 90/200\n",
      "\u001b[1m618/618\u001b[0m \u001b[32m━━━━━━━━━━━━━━━━━━━━\u001b[0m\u001b[37m\u001b[0m \u001b[1m24s\u001b[0m 38ms/step - loss: 0.0670 - val_loss: 0.1251\n",
      "Epoch 91/200\n",
      "\u001b[1m618/618\u001b[0m \u001b[32m━━━━━━━━━━━━━━━━━━━━\u001b[0m\u001b[37m\u001b[0m \u001b[1m23s\u001b[0m 38ms/step - loss: 0.0669 - val_loss: 0.1049\n",
      "Epoch 92/200\n",
      "\u001b[1m618/618\u001b[0m \u001b[32m━━━━━━━━━━━━━━━━━━━━\u001b[0m\u001b[37m\u001b[0m \u001b[1m24s\u001b[0m 38ms/step - loss: 0.0682 - val_loss: 0.1060\n",
      "Epoch 93/200\n",
      "\u001b[1m618/618\u001b[0m \u001b[32m━━━━━━━━━━━━━━━━━━━━\u001b[0m\u001b[37m\u001b[0m \u001b[1m24s\u001b[0m 39ms/step - loss: 0.0714 - val_loss: 0.1040\n",
      "Epoch 94/200\n",
      "\u001b[1m618/618\u001b[0m \u001b[32m━━━━━━━━━━━━━━━━━━━━\u001b[0m\u001b[37m\u001b[0m \u001b[1m24s\u001b[0m 38ms/step - loss: 0.0630 - val_loss: 0.1246\n",
      "Epoch 95/200\n",
      "\u001b[1m618/618\u001b[0m \u001b[32m━━━━━━━━━━━━━━━━━━━━\u001b[0m\u001b[37m\u001b[0m \u001b[1m23s\u001b[0m 38ms/step - loss: 0.0707 - val_loss: 0.1028\n",
      "Epoch 96/200\n",
      "\u001b[1m618/618\u001b[0m \u001b[32m━━━━━━━━━━━━━━━━━━━━\u001b[0m\u001b[37m\u001b[0m \u001b[1m23s\u001b[0m 38ms/step - loss: 0.0672 - val_loss: 0.1298\n",
      "Epoch 97/200\n",
      "\u001b[1m618/618\u001b[0m \u001b[32m━━━━━━━━━━━━━━━━━━━━\u001b[0m\u001b[37m\u001b[0m \u001b[1m24s\u001b[0m 39ms/step - loss: 0.0693 - val_loss: 0.0955\n",
      "Epoch 98/200\n",
      "\u001b[1m618/618\u001b[0m \u001b[32m━━━━━━━━━━━━━━━━━━━━\u001b[0m\u001b[37m\u001b[0m \u001b[1m25s\u001b[0m 40ms/step - loss: 0.0655 - val_loss: 0.1285\n",
      "Epoch 99/200\n",
      "\u001b[1m618/618\u001b[0m \u001b[32m━━━━━━━━━━━━━━━━━━━━\u001b[0m\u001b[37m\u001b[0m \u001b[1m25s\u001b[0m 40ms/step - loss: 0.0663 - val_loss: 0.1567\n",
      "Epoch 100/200\n",
      "\u001b[1m618/618\u001b[0m \u001b[32m━━━━━━━━━━━━━━━━━━━━\u001b[0m\u001b[37m\u001b[0m \u001b[1m25s\u001b[0m 41ms/step - loss: 0.0672 - val_loss: 0.1573\n",
      "Epoch 101/200\n",
      "\u001b[1m618/618\u001b[0m \u001b[32m━━━━━━━━━━━━━━━━━━━━\u001b[0m\u001b[37m\u001b[0m \u001b[1m25s\u001b[0m 40ms/step - loss: 0.0679 - val_loss: 0.1211\n",
      "Epoch 102/200\n",
      "\u001b[1m618/618\u001b[0m \u001b[32m━━━━━━━━━━━━━━━━━━━━\u001b[0m\u001b[37m\u001b[0m \u001b[1m24s\u001b[0m 39ms/step - loss: 0.0685 - val_loss: 0.1261\n",
      "Epoch 103/200\n",
      "\u001b[1m618/618\u001b[0m \u001b[32m━━━━━━━━━━━━━━━━━━━━\u001b[0m\u001b[37m\u001b[0m \u001b[1m24s\u001b[0m 39ms/step - loss: 0.0653 - val_loss: 0.1295\n",
      "Epoch 104/200\n",
      "\u001b[1m618/618\u001b[0m \u001b[32m━━━━━━━━━━━━━━━━━━━━\u001b[0m\u001b[37m\u001b[0m \u001b[1m24s\u001b[0m 39ms/step - loss: 0.0630 - val_loss: 0.1575\n",
      "Epoch 105/200\n",
      "\u001b[1m618/618\u001b[0m \u001b[32m━━━━━━━━━━━━━━━━━━━━\u001b[0m\u001b[37m\u001b[0m \u001b[1m24s\u001b[0m 39ms/step - loss: 0.0639 - val_loss: 0.1284\n",
      "Epoch 106/200\n",
      "\u001b[1m618/618\u001b[0m \u001b[32m━━━━━━━━━━━━━━━━━━━━\u001b[0m\u001b[37m\u001b[0m \u001b[1m25s\u001b[0m 41ms/step - loss: 0.0665 - val_loss: 0.1390\n",
      "Epoch 107/200\n",
      "\u001b[1m618/618\u001b[0m \u001b[32m━━━━━━━━━━━━━━━━━━━━\u001b[0m\u001b[37m\u001b[0m \u001b[1m24s\u001b[0m 39ms/step - loss: 0.0651 - val_loss: 0.1166\n",
      "Epoch 108/200\n",
      "\u001b[1m618/618\u001b[0m \u001b[32m━━━━━━━━━━━━━━━━━━━━\u001b[0m\u001b[37m\u001b[0m \u001b[1m24s\u001b[0m 39ms/step - loss: 0.0688 - val_loss: 0.1181\n",
      "Epoch 109/200\n",
      "\u001b[1m618/618\u001b[0m \u001b[32m━━━━━━━━━━━━━━━━━━━━\u001b[0m\u001b[37m\u001b[0m \u001b[1m25s\u001b[0m 40ms/step - loss: 0.0652 - val_loss: 0.1110\n",
      "Epoch 110/200\n",
      "\u001b[1m618/618\u001b[0m \u001b[32m━━━━━━━━━━━━━━━━━━━━\u001b[0m\u001b[37m\u001b[0m \u001b[1m24s\u001b[0m 39ms/step - loss: 0.0641 - val_loss: 0.1314\n",
      "Epoch 111/200\n",
      "\u001b[1m618/618\u001b[0m \u001b[32m━━━━━━━━━━━━━━━━━━━━\u001b[0m\u001b[37m\u001b[0m \u001b[1m23s\u001b[0m 38ms/step - loss: 0.0627 - val_loss: 0.1183\n",
      "Epoch 112/200\n",
      "\u001b[1m618/618\u001b[0m \u001b[32m━━━━━━━━━━━━━━━━━━━━\u001b[0m\u001b[37m\u001b[0m \u001b[1m24s\u001b[0m 39ms/step - loss: 0.0605 - val_loss: 0.1374\n",
      "Epoch 113/200\n",
      "\u001b[1m618/618\u001b[0m \u001b[32m━━━━━━━━━━━━━━━━━━━━\u001b[0m\u001b[37m\u001b[0m \u001b[1m24s\u001b[0m 39ms/step - loss: 0.0644 - val_loss: 0.1209\n",
      "Epoch 114/200\n",
      "\u001b[1m618/618\u001b[0m \u001b[32m━━━━━━━━━━━━━━━━━━━━\u001b[0m\u001b[37m\u001b[0m \u001b[1m24s\u001b[0m 39ms/step - loss: 0.0653 - val_loss: 0.0891\n",
      "Epoch 115/200\n",
      "\u001b[1m618/618\u001b[0m \u001b[32m━━━━━━━━━━━━━━━━━━━━\u001b[0m\u001b[37m\u001b[0m \u001b[1m24s\u001b[0m 39ms/step - loss: 0.0612 - val_loss: 0.1203\n",
      "Epoch 116/200\n",
      "\u001b[1m618/618\u001b[0m \u001b[32m━━━━━━━━━━━━━━━━━━━━\u001b[0m\u001b[37m\u001b[0m \u001b[1m25s\u001b[0m 40ms/step - loss: 0.0603 - val_loss: 0.0950\n",
      "Epoch 117/200\n",
      "\u001b[1m618/618\u001b[0m \u001b[32m━━━━━━━━━━━━━━━━━━━━\u001b[0m\u001b[37m\u001b[0m \u001b[1m22s\u001b[0m 35ms/step - loss: 0.0645 - val_loss: 0.1138\n",
      "Epoch 118/200\n",
      "\u001b[1m618/618\u001b[0m \u001b[32m━━━━━━━━━━━━━━━━━━━━\u001b[0m\u001b[37m\u001b[0m \u001b[1m22s\u001b[0m 35ms/step - loss: 0.0572 - val_loss: 0.1049\n",
      "Epoch 119/200\n",
      "\u001b[1m618/618\u001b[0m \u001b[32m━━━━━━━━━━━━━━━━━━━━\u001b[0m\u001b[37m\u001b[0m \u001b[1m22s\u001b[0m 36ms/step - loss: 0.0618 - val_loss: 0.1527\n",
      "Epoch 120/200\n",
      "\u001b[1m618/618\u001b[0m \u001b[32m━━━━━━━━━━━━━━━━━━━━\u001b[0m\u001b[37m\u001b[0m \u001b[1m22s\u001b[0m 35ms/step - loss: 0.0587 - val_loss: 0.1037\n",
      "Epoch 121/200\n",
      "\u001b[1m618/618\u001b[0m \u001b[32m━━━━━━━━━━━━━━━━━━━━\u001b[0m\u001b[37m\u001b[0m \u001b[1m24s\u001b[0m 39ms/step - loss: 0.0637 - val_loss: 0.1247\n",
      "Epoch 122/200\n",
      "\u001b[1m618/618\u001b[0m \u001b[32m━━━━━━━━━━━━━━━━━━━━\u001b[0m\u001b[37m\u001b[0m \u001b[1m24s\u001b[0m 39ms/step - loss: 0.0623 - val_loss: 0.1000\n",
      "Epoch 123/200\n",
      "\u001b[1m618/618\u001b[0m \u001b[32m━━━━━━━━━━━━━━━━━━━━\u001b[0m\u001b[37m\u001b[0m \u001b[1m23s\u001b[0m 38ms/step - loss: 0.0605 - val_loss: 0.1267\n",
      "Epoch 124/200\n",
      "\u001b[1m618/618\u001b[0m \u001b[32m━━━━━━━━━━━━━━━━━━━━\u001b[0m\u001b[37m\u001b[0m \u001b[1m24s\u001b[0m 38ms/step - loss: 0.0659 - val_loss: 0.0870\n",
      "Epoch 125/200\n",
      "\u001b[1m618/618\u001b[0m \u001b[32m━━━━━━━━━━━━━━━━━━━━\u001b[0m\u001b[37m\u001b[0m \u001b[1m24s\u001b[0m 39ms/step - loss: 0.0652 - val_loss: 0.1133\n",
      "Epoch 126/200\n",
      "\u001b[1m618/618\u001b[0m \u001b[32m━━━━━━━━━━━━━━━━━━━━\u001b[0m\u001b[37m\u001b[0m \u001b[1m23s\u001b[0m 38ms/step - loss: 0.0608 - val_loss: 0.0974\n",
      "Epoch 127/200\n",
      "\u001b[1m618/618\u001b[0m \u001b[32m━━━━━━━━━━━━━━━━━━━━\u001b[0m\u001b[37m\u001b[0m \u001b[1m24s\u001b[0m 38ms/step - loss: 0.0599 - val_loss: 0.0963\n",
      "Epoch 128/200\n",
      "\u001b[1m618/618\u001b[0m \u001b[32m━━━━━━━━━━━━━━━━━━━━\u001b[0m\u001b[37m\u001b[0m \u001b[1m24s\u001b[0m 38ms/step - loss: 0.0591 - val_loss: 0.1203\n",
      "Epoch 129/200\n",
      "\u001b[1m618/618\u001b[0m \u001b[32m━━━━━━━━━━━━━━━━━━━━\u001b[0m\u001b[37m\u001b[0m \u001b[1m24s\u001b[0m 38ms/step - loss: 0.0627 - val_loss: 0.0991\n",
      "Epoch 130/200\n",
      "\u001b[1m618/618\u001b[0m \u001b[32m━━━━━━━━━━━━━━━━━━━━\u001b[0m\u001b[37m\u001b[0m \u001b[1m23s\u001b[0m 38ms/step - loss: 0.0599 - val_loss: 0.1172\n",
      "Epoch 131/200\n",
      "\u001b[1m618/618\u001b[0m \u001b[32m━━━━━━━━━━━━━━━━━━━━\u001b[0m\u001b[37m\u001b[0m \u001b[1m24s\u001b[0m 38ms/step - loss: 0.0604 - val_loss: 0.1057\n",
      "Epoch 132/200\n",
      "\u001b[1m618/618\u001b[0m \u001b[32m━━━━━━━━━━━━━━━━━━━━\u001b[0m\u001b[37m\u001b[0m \u001b[1m23s\u001b[0m 38ms/step - loss: 0.0604 - val_loss: 0.1137\n",
      "Epoch 133/200\n",
      "\u001b[1m618/618\u001b[0m \u001b[32m━━━━━━━━━━━━━━━━━━━━\u001b[0m\u001b[37m\u001b[0m \u001b[1m23s\u001b[0m 38ms/step - loss: 0.0645 - val_loss: 0.1101\n",
      "Epoch 134/200\n",
      "\u001b[1m618/618\u001b[0m \u001b[32m━━━━━━━━━━━━━━━━━━━━\u001b[0m\u001b[37m\u001b[0m \u001b[1m24s\u001b[0m 39ms/step - loss: 0.0586 - val_loss: 0.1077\n",
      "Epoch 135/200\n",
      "\u001b[1m618/618\u001b[0m \u001b[32m━━━━━━━━━━━━━━━━━━━━\u001b[0m\u001b[37m\u001b[0m \u001b[1m24s\u001b[0m 38ms/step - loss: 0.0619 - val_loss: 0.1586\n",
      "Epoch 136/200\n",
      "\u001b[1m618/618\u001b[0m \u001b[32m━━━━━━━━━━━━━━━━━━━━\u001b[0m\u001b[37m\u001b[0m \u001b[1m23s\u001b[0m 38ms/step - loss: 0.0559 - val_loss: 0.1179\n",
      "Epoch 137/200\n",
      "\u001b[1m618/618\u001b[0m \u001b[32m━━━━━━━━━━━━━━━━━━━━\u001b[0m\u001b[37m\u001b[0m \u001b[1m24s\u001b[0m 38ms/step - loss: 0.0603 - val_loss: 0.1002\n",
      "Epoch 138/200\n",
      "\u001b[1m618/618\u001b[0m \u001b[32m━━━━━━━━━━━━━━━━━━━━\u001b[0m\u001b[37m\u001b[0m \u001b[1m24s\u001b[0m 38ms/step - loss: 0.0598 - val_loss: 0.0978\n",
      "Epoch 139/200\n",
      "\u001b[1m618/618\u001b[0m \u001b[32m━━━━━━━━━━━━━━━━━━━━\u001b[0m\u001b[37m\u001b[0m \u001b[1m23s\u001b[0m 38ms/step - loss: 0.0560 - val_loss: 0.0907\n",
      "Epoch 140/200\n",
      "\u001b[1m618/618\u001b[0m \u001b[32m━━━━━━━━━━━━━━━━━━━━\u001b[0m\u001b[37m\u001b[0m \u001b[1m23s\u001b[0m 38ms/step - loss: 0.0564 - val_loss: 0.1046\n",
      "Epoch 141/200\n",
      "\u001b[1m618/618\u001b[0m \u001b[32m━━━━━━━━━━━━━━━━━━━━\u001b[0m\u001b[37m\u001b[0m \u001b[1m24s\u001b[0m 39ms/step - loss: 0.0575 - val_loss: 0.1192\n",
      "Epoch 142/200\n",
      "\u001b[1m618/618\u001b[0m \u001b[32m━━━━━━━━━━━━━━━━━━━━\u001b[0m\u001b[37m\u001b[0m \u001b[1m23s\u001b[0m 38ms/step - loss: 0.0595 - val_loss: 0.1118\n",
      "Epoch 143/200\n",
      "\u001b[1m618/618\u001b[0m \u001b[32m━━━━━━━━━━━━━━━━━━━━\u001b[0m\u001b[37m\u001b[0m \u001b[1m23s\u001b[0m 38ms/step - loss: 0.0571 - val_loss: 0.1351\n",
      "Epoch 144/200\n",
      "\u001b[1m618/618\u001b[0m \u001b[32m━━━━━━━━━━━━━━━━━━━━\u001b[0m\u001b[37m\u001b[0m \u001b[1m24s\u001b[0m 38ms/step - loss: 0.0589 - val_loss: 0.1298\n",
      "Epoch 145/200\n",
      "\u001b[1m618/618\u001b[0m \u001b[32m━━━━━━━━━━━━━━━━━━━━\u001b[0m\u001b[37m\u001b[0m \u001b[1m23s\u001b[0m 38ms/step - loss: 0.0553 - val_loss: 0.1414\n",
      "Epoch 146/200\n",
      "\u001b[1m618/618\u001b[0m \u001b[32m━━━━━━━━━━━━━━━━━━━━\u001b[0m\u001b[37m\u001b[0m \u001b[1m24s\u001b[0m 38ms/step - loss: 0.0581 - val_loss: 0.1052\n",
      "Epoch 147/200\n",
      "\u001b[1m618/618\u001b[0m \u001b[32m━━━━━━━━━━━━━━━━━━━━\u001b[0m\u001b[37m\u001b[0m \u001b[1m24s\u001b[0m 38ms/step - loss: 0.0576 - val_loss: 0.1110\n",
      "Epoch 148/200\n",
      "\u001b[1m618/618\u001b[0m \u001b[32m━━━━━━━━━━━━━━━━━━━━\u001b[0m\u001b[37m\u001b[0m \u001b[1m24s\u001b[0m 38ms/step - loss: 0.0610 - val_loss: 0.0946\n",
      "Epoch 149/200\n",
      "\u001b[1m618/618\u001b[0m \u001b[32m━━━━━━━━━━━━━━━━━━━━\u001b[0m\u001b[37m\u001b[0m \u001b[1m24s\u001b[0m 38ms/step - loss: 0.0562 - val_loss: 0.1141\n",
      "Epoch 150/200\n",
      "\u001b[1m618/618\u001b[0m \u001b[32m━━━━━━━━━━━━━━━━━━━━\u001b[0m\u001b[37m\u001b[0m \u001b[1m24s\u001b[0m 38ms/step - loss: 0.0597 - val_loss: 0.1368\n",
      "Epoch 151/200\n",
      "\u001b[1m618/618\u001b[0m \u001b[32m━━━━━━━━━━━━━━━━━━━━\u001b[0m\u001b[37m\u001b[0m \u001b[1m23s\u001b[0m 38ms/step - loss: 0.0610 - val_loss: 0.1033\n",
      "Epoch 152/200\n",
      "\u001b[1m618/618\u001b[0m \u001b[32m━━━━━━━━━━━━━━━━━━━━\u001b[0m\u001b[37m\u001b[0m \u001b[1m23s\u001b[0m 38ms/step - loss: 0.0548 - val_loss: 0.1056\n",
      "Epoch 153/200\n",
      "\u001b[1m618/618\u001b[0m \u001b[32m━━━━━━━━━━━━━━━━━━━━\u001b[0m\u001b[37m\u001b[0m \u001b[1m24s\u001b[0m 38ms/step - loss: 0.0581 - val_loss: 0.1180\n",
      "Epoch 154/200\n",
      "\u001b[1m618/618\u001b[0m \u001b[32m━━━━━━━━━━━━━━━━━━━━\u001b[0m\u001b[37m\u001b[0m \u001b[1m23s\u001b[0m 38ms/step - loss: 0.0579 - val_loss: 0.1109\n",
      "Epoch 155/200\n",
      "\u001b[1m618/618\u001b[0m \u001b[32m━━━━━━━━━━━━━━━━━━━━\u001b[0m\u001b[37m\u001b[0m \u001b[1m23s\u001b[0m 38ms/step - loss: 0.0583 - val_loss: 0.1056\n",
      "Epoch 156/200\n",
      "\u001b[1m618/618\u001b[0m \u001b[32m━━━━━━━━━━━━━━━━━━━━\u001b[0m\u001b[37m\u001b[0m \u001b[1m23s\u001b[0m 38ms/step - loss: 0.0562 - val_loss: 0.1036\n",
      "Epoch 157/200\n",
      "\u001b[1m618/618\u001b[0m \u001b[32m━━━━━━━━━━━━━━━━━━━━\u001b[0m\u001b[37m\u001b[0m \u001b[1m24s\u001b[0m 39ms/step - loss: 0.0541 - val_loss: 0.0997\n",
      "Epoch 158/200\n",
      "\u001b[1m618/618\u001b[0m \u001b[32m━━━━━━━━━━━━━━━━━━━━\u001b[0m\u001b[37m\u001b[0m \u001b[1m24s\u001b[0m 39ms/step - loss: 0.0552 - val_loss: 0.1118\n",
      "Epoch 159/200\n",
      "\u001b[1m618/618\u001b[0m \u001b[32m━━━━━━━━━━━━━━━━━━━━\u001b[0m\u001b[37m\u001b[0m \u001b[1m24s\u001b[0m 38ms/step - loss: 0.0561 - val_loss: 0.0907\n",
      "Epoch 160/200\n",
      "\u001b[1m618/618\u001b[0m \u001b[32m━━━━━━━━━━━━━━━━━━━━\u001b[0m\u001b[37m\u001b[0m \u001b[1m24s\u001b[0m 38ms/step - loss: 0.0557 - val_loss: 0.1017\n",
      "Epoch 161/200\n",
      "\u001b[1m618/618\u001b[0m \u001b[32m━━━━━━━━━━━━━━━━━━━━\u001b[0m\u001b[37m\u001b[0m \u001b[1m23s\u001b[0m 38ms/step - loss: 0.0560 - val_loss: 0.0977\n",
      "Epoch 162/200\n",
      "\u001b[1m618/618\u001b[0m \u001b[32m━━━━━━━━━━━━━━━━━━━━\u001b[0m\u001b[37m\u001b[0m \u001b[1m23s\u001b[0m 38ms/step - loss: 0.0546 - val_loss: 0.1116\n",
      "Epoch 163/200\n",
      "\u001b[1m618/618\u001b[0m \u001b[32m━━━━━━━━━━━━━━━━━━━━\u001b[0m\u001b[37m\u001b[0m \u001b[1m24s\u001b[0m 38ms/step - loss: 0.0605 - val_loss: 0.1048\n",
      "Epoch 164/200\n",
      "\u001b[1m618/618\u001b[0m \u001b[32m━━━━━━━━━━━━━━━━━━━━\u001b[0m\u001b[37m\u001b[0m \u001b[1m24s\u001b[0m 39ms/step - loss: 0.0564 - val_loss: 0.1116\n",
      "Epoch 165/200\n",
      "\u001b[1m618/618\u001b[0m \u001b[32m━━━━━━━━━━━━━━━━━━━━\u001b[0m\u001b[37m\u001b[0m \u001b[1m23s\u001b[0m 38ms/step - loss: 0.0548 - val_loss: 0.1063\n",
      "Epoch 166/200\n",
      "\u001b[1m618/618\u001b[0m \u001b[32m━━━━━━━━━━━━━━━━━━━━\u001b[0m\u001b[37m\u001b[0m \u001b[1m24s\u001b[0m 38ms/step - loss: 0.0541 - val_loss: 0.1388\n",
      "Epoch 167/200\n",
      "\u001b[1m618/618\u001b[0m \u001b[32m━━━━━━━━━━━━━━━━━━━━\u001b[0m\u001b[37m\u001b[0m \u001b[1m24s\u001b[0m 39ms/step - loss: 0.0532 - val_loss: 0.0827\n",
      "Epoch 168/200\n",
      "\u001b[1m618/618\u001b[0m \u001b[32m━━━━━━━━━━━━━━━━━━━━\u001b[0m\u001b[37m\u001b[0m \u001b[1m24s\u001b[0m 38ms/step - loss: 0.0524 - val_loss: 0.0852\n",
      "Epoch 169/200\n",
      "\u001b[1m618/618\u001b[0m \u001b[32m━━━━━━━━━━━━━━━━━━━━\u001b[0m\u001b[37m\u001b[0m \u001b[1m24s\u001b[0m 38ms/step - loss: 0.0564 - val_loss: 0.1137\n",
      "Epoch 170/200\n",
      "\u001b[1m618/618\u001b[0m \u001b[32m━━━━━━━━━━━━━━━━━━━━\u001b[0m\u001b[37m\u001b[0m \u001b[1m26s\u001b[0m 42ms/step - loss: 0.0539 - val_loss: 0.0919\n",
      "Epoch 171/200\n",
      "\u001b[1m618/618\u001b[0m \u001b[32m━━━━━━━━━━━━━━━━━━━━\u001b[0m\u001b[37m\u001b[0m \u001b[1m27s\u001b[0m 44ms/step - loss: 0.0535 - val_loss: 0.0877\n",
      "Epoch 172/200\n",
      "\u001b[1m618/618\u001b[0m \u001b[32m━━━━━━━━━━━━━━━━━━━━\u001b[0m\u001b[37m\u001b[0m \u001b[1m24s\u001b[0m 40ms/step - loss: 0.0534 - val_loss: 0.1140\n",
      "Epoch 173/200\n",
      "\u001b[1m618/618\u001b[0m \u001b[32m━━━━━━━━━━━━━━━━━━━━\u001b[0m\u001b[37m\u001b[0m \u001b[1m24s\u001b[0m 38ms/step - loss: 0.0533 - val_loss: 0.0990\n",
      "Epoch 174/200\n",
      "\u001b[1m618/618\u001b[0m \u001b[32m━━━━━━━━━━━━━━━━━━━━\u001b[0m\u001b[37m\u001b[0m \u001b[1m24s\u001b[0m 38ms/step - loss: 0.0538 - val_loss: 0.1030\n",
      "Epoch 175/200\n",
      "\u001b[1m618/618\u001b[0m \u001b[32m━━━━━━━━━━━━━━━━━━━━\u001b[0m\u001b[37m\u001b[0m \u001b[1m24s\u001b[0m 39ms/step - loss: 0.0536 - val_loss: 0.1292\n",
      "Epoch 176/200\n",
      "\u001b[1m618/618\u001b[0m \u001b[32m━━━━━━━━━━━━━━━━━━━━\u001b[0m\u001b[37m\u001b[0m \u001b[1m24s\u001b[0m 39ms/step - loss: 0.0567 - val_loss: 0.0943\n",
      "Epoch 177/200\n",
      "\u001b[1m618/618\u001b[0m \u001b[32m━━━━━━━━━━━━━━━━━━━━\u001b[0m\u001b[37m\u001b[0m \u001b[1m25s\u001b[0m 40ms/step - loss: 0.0518 - val_loss: 0.1058\n",
      "Epoch 178/200\n",
      "\u001b[1m618/618\u001b[0m \u001b[32m━━━━━━━━━━━━━━━━━━━━\u001b[0m\u001b[37m\u001b[0m \u001b[1m23s\u001b[0m 38ms/step - loss: 0.0532 - val_loss: 0.0944\n",
      "Epoch 179/200\n",
      "\u001b[1m618/618\u001b[0m \u001b[32m━━━━━━━━━━━━━━━━━━━━\u001b[0m\u001b[37m\u001b[0m \u001b[1m23s\u001b[0m 38ms/step - loss: 0.0538 - val_loss: 0.0901\n",
      "Epoch 180/200\n",
      "\u001b[1m618/618\u001b[0m \u001b[32m━━━━━━━━━━━━━━━━━━━━\u001b[0m\u001b[37m\u001b[0m \u001b[1m24s\u001b[0m 38ms/step - loss: 0.0577 - val_loss: 0.0987\n",
      "Epoch 181/200\n",
      "\u001b[1m618/618\u001b[0m \u001b[32m━━━━━━━━━━━━━━━━━━━━\u001b[0m\u001b[37m\u001b[0m \u001b[1m23s\u001b[0m 38ms/step - loss: 0.0513 - val_loss: 0.0939\n",
      "Epoch 182/200\n",
      "\u001b[1m618/618\u001b[0m \u001b[32m━━━━━━━━━━━━━━━━━━━━\u001b[0m\u001b[37m\u001b[0m \u001b[1m23s\u001b[0m 38ms/step - loss: 0.0535 - val_loss: 0.1059\n",
      "Epoch 183/200\n",
      "\u001b[1m618/618\u001b[0m \u001b[32m━━━━━━━━━━━━━━━━━━━━\u001b[0m\u001b[37m\u001b[0m \u001b[1m24s\u001b[0m 38ms/step - loss: 0.0540 - val_loss: 0.0822\n",
      "Epoch 184/200\n",
      "\u001b[1m618/618\u001b[0m \u001b[32m━━━━━━━━━━━━━━━━━━━━\u001b[0m\u001b[37m\u001b[0m \u001b[1m24s\u001b[0m 38ms/step - loss: 0.0530 - val_loss: 0.1232\n",
      "Epoch 185/200\n",
      "\u001b[1m618/618\u001b[0m \u001b[32m━━━━━━━━━━━━━━━━━━━━\u001b[0m\u001b[37m\u001b[0m \u001b[1m24s\u001b[0m 39ms/step - loss: 0.0524 - val_loss: 0.0940\n",
      "Epoch 186/200\n",
      "\u001b[1m618/618\u001b[0m \u001b[32m━━━━━━━━━━━━━━━━━━━━\u001b[0m\u001b[37m\u001b[0m \u001b[1m26s\u001b[0m 42ms/step - loss: 0.0521 - val_loss: 0.1013\n",
      "Epoch 187/200\n",
      "\u001b[1m618/618\u001b[0m \u001b[32m━━━━━━━━━━━━━━━━━━━━\u001b[0m\u001b[37m\u001b[0m \u001b[1m23s\u001b[0m 38ms/step - loss: 0.0518 - val_loss: 0.1027\n",
      "Epoch 188/200\n",
      "\u001b[1m618/618\u001b[0m \u001b[32m━━━━━━━━━━━━━━━━━━━━\u001b[0m\u001b[37m\u001b[0m \u001b[1m23s\u001b[0m 38ms/step - loss: 0.0527 - val_loss: 0.1041\n",
      "Epoch 189/200\n",
      "\u001b[1m618/618\u001b[0m \u001b[32m━━━━━━━━━━━━━━━━━━━━\u001b[0m\u001b[37m\u001b[0m \u001b[1m24s\u001b[0m 38ms/step - loss: 0.0517 - val_loss: 0.0918\n",
      "Epoch 190/200\n",
      "\u001b[1m618/618\u001b[0m \u001b[32m━━━━━━━━━━━━━━━━━━━━\u001b[0m\u001b[37m\u001b[0m \u001b[1m24s\u001b[0m 38ms/step - loss: 0.0530 - val_loss: 0.0958\n",
      "Epoch 191/200\n",
      "\u001b[1m618/618\u001b[0m \u001b[32m━━━━━━━━━━━━━━━━━━━━\u001b[0m\u001b[37m\u001b[0m \u001b[1m23s\u001b[0m 38ms/step - loss: 0.0522 - val_loss: 0.0934\n",
      "Epoch 192/200\n",
      "\u001b[1m618/618\u001b[0m \u001b[32m━━━━━━━━━━━━━━━━━━━━\u001b[0m\u001b[37m\u001b[0m \u001b[1m24s\u001b[0m 38ms/step - loss: 0.0516 - val_loss: 0.0965\n",
      "Epoch 193/200\n",
      "\u001b[1m618/618\u001b[0m \u001b[32m━━━━━━━━━━━━━━━━━━━━\u001b[0m\u001b[37m\u001b[0m \u001b[1m24s\u001b[0m 38ms/step - loss: 0.0526 - val_loss: 0.0941\n",
      "Epoch 194/200\n",
      "\u001b[1m618/618\u001b[0m \u001b[32m━━━━━━━━━━━━━━━━━━━━\u001b[0m\u001b[37m\u001b[0m \u001b[1m23s\u001b[0m 38ms/step - loss: 0.0503 - val_loss: 0.1025\n",
      "Epoch 195/200\n",
      "\u001b[1m618/618\u001b[0m \u001b[32m━━━━━━━━━━━━━━━━━━━━\u001b[0m\u001b[37m\u001b[0m \u001b[1m23s\u001b[0m 38ms/step - loss: 0.0529 - val_loss: 0.0974\n",
      "Epoch 196/200\n",
      "\u001b[1m618/618\u001b[0m \u001b[32m━━━━━━━━━━━━━━━━━━━━\u001b[0m\u001b[37m\u001b[0m \u001b[1m24s\u001b[0m 38ms/step - loss: 0.0492 - val_loss: 0.0950\n",
      "Epoch 197/200\n",
      "\u001b[1m618/618\u001b[0m \u001b[32m━━━━━━━━━━━━━━━━━━━━\u001b[0m\u001b[37m\u001b[0m \u001b[1m23s\u001b[0m 38ms/step - loss: 0.0509 - val_loss: 0.0955\n",
      "Epoch 198/200\n",
      "\u001b[1m618/618\u001b[0m \u001b[32m━━━━━━━━━━━━━━━━━━━━\u001b[0m\u001b[37m\u001b[0m \u001b[1m23s\u001b[0m 38ms/step - loss: 0.0535 - val_loss: 0.0984\n",
      "Epoch 199/200\n",
      "\u001b[1m618/618\u001b[0m \u001b[32m━━━━━━━━━━━━━━━━━━━━\u001b[0m\u001b[37m\u001b[0m \u001b[1m24s\u001b[0m 39ms/step - loss: 0.0489 - val_loss: 0.1003\n",
      "Epoch 200/200\n",
      "\u001b[1m618/618\u001b[0m \u001b[32m━━━━━━━━━━━━━━━━━━━━\u001b[0m\u001b[37m\u001b[0m \u001b[1m23s\u001b[0m 38ms/step - loss: 0.0508 - val_loss: 0.0852\n"
     ]
    }
   ],
   "source": [
    "#Fit the model\n",
    "history = seqmodel.model.fit(x=X_train,\n",
    "                                         y=np.array(y_train),\n",
    "                                         epochs=200,\n",
    "                                         batch_size=20,\n",
    "                                         shuffle=True,\n",
    "                                         validation_split=0.2,\n",
    "                                         callbacks=[ModelCheckpoint(filepath='LSTM_ft.keras',\n",
    "               monitor='val_loss',save_best_only=True,mode='min')])"
   ]
  },
  {
   "cell_type": "code",
   "execution_count": 34,
   "metadata": {},
   "outputs": [
    {
     "data": {
      "text/plain": [
       "[<matplotlib.lines.Line2D at 0x7f5d90d31de0>]"
      ]
     },
     "execution_count": 34,
     "metadata": {},
     "output_type": "execute_result"
    },
    {
     "data": {
      "image/png": "[encoded data removed]",
      "text/plain": [
       "<Figure size 640x480 with 1 Axes>"
      ]
     },
     "metadata": {},
     "output_type": "display_data"
    }
   ],
   "source": [
    "#Plot the loss\n",
    "plt.plot(history.history['loss'])\n",
    "plt.plot(history.history['val_loss'])"
   ]
  },
  {
   "cell_type": "code",
   "execution_count": 36,
   "metadata": {},
   "outputs": [
    {
     "name": "stdout",
     "output_type": "stream",
     "text": [
      "Best epoch: 182\n"
     ]
    }
   ],
   "source": [
    "#get best epoch\n",
    "best_epoch = np.argmin(history.history['val_loss'])\n",
    "print(f'Best epoch: {best_epoch}')\n"
   ]
  },
  {
   "cell_type": "code",
   "execution_count": 49,
   "metadata": {},
   "outputs": [
    {
     "name": "stdout",
     "output_type": "stream",
     "text": [
      "\u001b[1m121/121\u001b[0m \u001b[32m━━━━━━━━━━━━━━━━━━━━\u001b[0m\u001b[37m\u001b[0m \u001b[1m2s\u001b[0m 13ms/step\n"
     ]
    }
   ],
   "source": [
    "y_pred = seqmodel.model.predict(X_test)"
   ]
  },
  {
   "cell_type": "code",
   "execution_count": 59,
   "metadata": {},
   "outputs": [
    {
     "data": {
      "text/plain": [
       "0.8974093264248705"
      ]
     },
     "execution_count": 59,
     "metadata": {},
     "output_type": "execute_result"
    }
   ],
   "source": [
    "#Calculate the accuracy\n",
    "from sklearn.metrics import accuracy_score\n",
    "#Transform the predictions to the class\n",
    "y_class_pred = np.round(np.sum(y_pred, axis=1)) #Sum the probabilities of the classes and round to the nearest integer to get the class as 0,1,2\n",
    "y_class_test = np.round(np.sum(y_test, axis=1)) #Sum the probabilities of the classes and round to the nearest integer to get the class as 0,1,2\n",
    "accuracy_score(y_class_pred, y_class_test) #Calculate the accuracy"
   ]
  },
  {
   "cell_type": "code",
   "execution_count": 38,
   "metadata": {},
   "outputs": [
    {
     "data": {
      "text/plain": [
       "(3860, 3)"
      ]
     },
     "execution_count": 38,
     "metadata": {},
     "output_type": "execute_result"
    }
   ],
   "source": [
    "#Transform the class into a one hot encoding to plot the ROC curve. See https://developers.google.com/machine-learning/crash-course/classification/roc-and-auc\n",
    "from sklearn.preprocessing import LabelBinarizer\n",
    "\n",
    "label_binarizer = LabelBinarizer().fit(new_df['activity_class'].values[train_indices])\n",
    "y_onehot_test = label_binarizer.transform(new_df['activity_class'].values[test_indices])\n",
    "y_onehot_test.shape  # (n_samples, n_classes)"
   ]
  },
  {
   "cell_type": "code",
   "execution_count": 39,
   "metadata": {},
   "outputs": [
    {
     "data": {
      "text/plain": [
       "2"
      ]
     },
     "execution_count": 39,
     "metadata": {},
     "output_type": "execute_result"
    }
   ],
   "source": [
    "class_of_interest = 2\n",
    "class_id = np.flatnonzero(label_binarizer.classes_ == class_of_interest)[0]\n",
    "class_id"
   ]
  },
  {
   "cell_type": "code",
   "execution_count": 55,
   "metadata": {},
   "outputs": [
    {
     "data": {
      "image/png": "[encoded data removed]",
      "text/plain": [
       "<Figure size 640x480 with 1 Axes>"
      ]
     },
     "metadata": {},
     "output_type": "display_data"
    }
   ],
   "source": [
    "#Plot the ROC curve for the class of interest (High activity vs the rest)\n",
    "import matplotlib.pyplot as plt\n",
    "\n",
    "from sklearn.metrics import RocCurveDisplay\n",
    "\n",
    "display = RocCurveDisplay.from_predictions(\n",
    "    y_onehot_test[:, class_id],\n",
    "    y_pred[:, class_id],\n",
    "    name=f\"High activity vs the rest\",\n",
    "    color=\"darkorange\",\n",
    "    plot_chance_level=True,\n",
    ")\n",
    "_ = display.ax_.set(\n",
    "    xlabel=\"False Positive Rate\",\n",
    "    ylabel=\"True Positive Rate\",\n",
    "    title=\"One-vs-Rest ROC curves:\\nHigh activity vs (Moderate activity & No activity)\",\n",
    ")"
   ]
  },
  {
   "cell_type": "code",
   "execution_count": 26,
   "metadata": {},
   "outputs": [
    {
     "name": "stderr",
     "output_type": "stream",
     "text": [
      "2024-09-30 13:50:40.706436: I external/local_xla/xla/stream_executor/cuda/cuda_dnn.cc:531] Loaded cuDNN version 8907\n"
     ]
    },
    {
     "name": "stdout",
     "output_type": "stream",
     "text": [
      "\u001b[1m604/604\u001b[0m \u001b[32m━━━━━━━━━━━━━━━━━━━━\u001b[0m\u001b[37m\u001b[0m \u001b[1m23s\u001b[0m 22ms/step\n"
     ]
    }
   ],
   "source": [
    "#predict from smiles arr and get the last hidden state of the LSTM\n",
    "hidden = chem_model.predict(inputs_x)\n",
    "hidden.shape\n",
    "features = hidden.reshape(new_df.shape[0], -1)"
   ]
  },
  {
   "cell_type": "code",
   "execution_count": 63,
   "metadata": {},
   "outputs": [],
   "source": [
    "#select the features of the train and test data by the indices\n",
    "X_train_rf = features[train_indices]\n",
    "X_test_rf =  features[test_indices]  \n",
    "#select the labels of the train and test data by the indices\n",
    "y_train_rf = new_df[\"activity_class\"][train_indices] \n",
    "y_test_rf = new_df[\"activity_class\"][test_indices] "
   ]
  },
  {
   "cell_type": "code",
   "execution_count": 65,
   "metadata": {},
   "outputs": [
    {
     "name": "stdout",
     "output_type": "stream",
     "text": [
      "              precision    recall  f1-score   support\n",
      "\n",
      "           0       0.82      0.60      0.69      1229\n",
      "           1       0.58      0.50      0.54      1310\n",
      "           2       0.61      0.84      0.70      1321\n",
      "\n",
      "    accuracy                           0.65      3860\n",
      "   macro avg       0.67      0.64      0.64      3860\n",
      "weighted avg       0.66      0.65      0.64      3860\n",
      "\n",
      "Accuracy: 0.6463730569948186\n"
     ]
    }
   ],
   "source": [
    "from sklearn.ensemble import RandomForestClassifier\n",
    "from sklearn.metrics import classification_report\n",
    "\n",
    "#normalize the features\n",
    "from sklearn.preprocessing import StandardScaler\n",
    "scaler = StandardScaler()\n",
    "X_train_rf = scaler.fit_transform(X_train_rf)\n",
    "X_test_rf = scaler.transform(X_test_rf)\n",
    "\n",
    "\n",
    "rf_model = RandomForestClassifier(n_estimators=100, max_depth=10, random_state=42)\n",
    "rf_model.fit(X_train_rf, y_train_rf)\n",
    "\n",
    "\n",
    "y_pred_rf = rf_model.predict(X_test_rf)\n",
    "print(classification_report(y_test_rf, y_pred_rf))\n",
    "\n",
    "from sklearn.metrics import accuracy_score\n",
    "print(f'Accuracy: {accuracy_score(y_test_rf, y_pred_rf)}')\n",
    "\n"
   ]
  },
  {
   "cell_type": "code",
   "execution_count": null,
   "metadata": {},
   "outputs": [],
   "source": []
  }
 ],
 "metadata": {
  "kernelspec": {
   "display_name": "Python 3 (ipykernel)",
   "language": "python",
   "name": "python3"
  }
 },
 "nbformat": 4,
 "nbformat_minor": 2
}
