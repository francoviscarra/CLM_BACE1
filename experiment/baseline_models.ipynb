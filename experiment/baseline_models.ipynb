{
 "cells": [
  {
   "cell_type": "code",
   "execution_count": 56,
   "metadata": {},
   "outputs": [],
   "source": [
    "import pandas as pd\n",
    "import matplotlib.pyplot as plt\n",
    "from rdkit import Chem, DataStructs\n",
    "import numpy as np\n",
    "from rdkit.Chem import (\n",
    "    PandasTools,\n",
    "    Draw,\n",
    "    Descriptors,\n",
    "    MACCSkeys,\n",
    "    rdFingerprintGenerator,\n",
    ")\n",
    "import math"
   ]
  },
  {
   "cell_type": "code",
   "execution_count": 100,
   "metadata": {},
   "outputs": [],
   "source": [
    "beta = pd.read_csv('beta_activity_class.csv') #Clean CSV file with beta secretase smiles and activity"
   ]
  },
  {
   "cell_type": "code",
   "execution_count": 94,
   "metadata": {},
   "outputs": [
    {
     "data": {
      "text/html": [
       "<div>\n",
       "<style scoped>\n",
       "    .dataframe tbody tr th:only-of-type {\n",
       "        vertical-align: middle;\n",
       "    }\n",
       "\n",
       "    .dataframe tbody tr th {\n",
       "        vertical-align: top;\n",
       "    }\n",
       "\n",
       "    .dataframe thead th {\n",
       "        text-align: right;\n",
       "    }\n",
       "</style>\n",
       "<table border=\"1\" class=\"dataframe\">\n",
       "  <thead>\n",
       "    <tr style=\"text-align: right;\">\n",
       "      <th></th>\n",
       "      <th>Ligand SMILES</th>\n",
       "      <th>activity_class</th>\n",
       "    </tr>\n",
       "  </thead>\n",
       "  <tbody>\n",
       "    <tr>\n",
       "      <th>0</th>\n",
       "      <td>CCSc1cnc(cn1)C(=O)Nc1cccc(c1)[C@]1(C)CCSC(N)=N1</td>\n",
       "      <td>moderately_active</td>\n",
       "    </tr>\n",
       "    <tr>\n",
       "      <th>1</th>\n",
       "      <td>C[C@]1(CCSC(N)=N1)c1cc(NC(=O)CCc2ccc(O)c(O)c2)...</td>\n",
       "      <td>moderately_active</td>\n",
       "    </tr>\n",
       "    <tr>\n",
       "      <th>2</th>\n",
       "      <td>COc1nc(nc(C)c1F)N1C[C@H]2C(=O)N(C)C(=N)N[C@]2(...</td>\n",
       "      <td>moderately_active</td>\n",
       "    </tr>\n",
       "    <tr>\n",
       "      <th>3</th>\n",
       "      <td>COc1nc(nc(C)c1F)N1C[C@H]2C(=O)N(C)C(=N)N[C@]2(...</td>\n",
       "      <td>moderately_active</td>\n",
       "    </tr>\n",
       "    <tr>\n",
       "      <th>4</th>\n",
       "      <td>COc1nc(nc(C)c1F)N1C[C@H]2C(=O)N(C)C(=N)N[C@]2(...</td>\n",
       "      <td>moderately_active</td>\n",
       "    </tr>\n",
       "    <tr>\n",
       "      <th>...</th>\n",
       "      <td>...</td>\n",
       "      <td>...</td>\n",
       "    </tr>\n",
       "    <tr>\n",
       "      <th>15992</th>\n",
       "      <td>FC(F)(F)c1ccc(N\\N=C\\c2coc3cc4oc(cc4cc3c2=O)-c2...</td>\n",
       "      <td>inactive</td>\n",
       "    </tr>\n",
       "    <tr>\n",
       "      <th>15993</th>\n",
       "      <td>COc1ccc(cc1)-c1cc2cc3c(cc2o1)occ(\\C=N\\Nc1ccc(c...</td>\n",
       "      <td>inactive</td>\n",
       "    </tr>\n",
       "    <tr>\n",
       "      <th>15994</th>\n",
       "      <td>COc1ccc(CN(CCN(C)CCN)c2ccccn2)cc1</td>\n",
       "      <td>inactive</td>\n",
       "    </tr>\n",
       "    <tr>\n",
       "      <th>15995</th>\n",
       "      <td>Fc1cccc(c1)-c1cc2c(ccc3c2occ(\\C=N\\Nc2ccc(cc2)C...</td>\n",
       "      <td>inactive</td>\n",
       "    </tr>\n",
       "    <tr>\n",
       "      <th>15996</th>\n",
       "      <td>CCC(=O)CNC(=O)Nc1nc2ccc(cc2s1)-c1oc2c(OC)c(O)c...</td>\n",
       "      <td>moderately_active</td>\n",
       "    </tr>\n",
       "  </tbody>\n",
       "</table>\n",
       "<p>15997 rows × 2 columns</p>\n",
       "</div>"
      ],
      "text/plain": [
       "                                           Ligand SMILES     activity_class\n",
       "0        CCSc1cnc(cn1)C(=O)Nc1cccc(c1)[C@]1(C)CCSC(N)=N1  moderately_active\n",
       "1      C[C@]1(CCSC(N)=N1)c1cc(NC(=O)CCc2ccc(O)c(O)c2)...  moderately_active\n",
       "2      COc1nc(nc(C)c1F)N1C[C@H]2C(=O)N(C)C(=N)N[C@]2(...  moderately_active\n",
       "3      COc1nc(nc(C)c1F)N1C[C@H]2C(=O)N(C)C(=N)N[C@]2(...  moderately_active\n",
       "4      COc1nc(nc(C)c1F)N1C[C@H]2C(=O)N(C)C(=N)N[C@]2(...  moderately_active\n",
       "...                                                  ...                ...\n",
       "15992  FC(F)(F)c1ccc(N\\N=C\\c2coc3cc4oc(cc4cc3c2=O)-c2...           inactive\n",
       "15993  COc1ccc(cc1)-c1cc2cc3c(cc2o1)occ(\\C=N\\Nc1ccc(c...           inactive\n",
       "15994                  COc1ccc(CN(CCN(C)CCN)c2ccccn2)cc1           inactive\n",
       "15995  Fc1cccc(c1)-c1cc2c(ccc3c2occ(\\C=N\\Nc2ccc(cc2)C...           inactive\n",
       "15996  CCC(=O)CNC(=O)Nc1nc2ccc(cc2s1)-c1oc2c(OC)c(O)c...  moderately_active\n",
       "\n",
       "[15997 rows x 2 columns]"
      ]
     },
     "execution_count": 94,
     "metadata": {},
     "output_type": "execute_result"
    }
   ],
   "source": [
    "beta"
   ]
  },
  {
   "cell_type": "code",
   "execution_count": 110,
   "metadata": {},
   "outputs": [
    {
     "name": "stdout",
     "output_type": "stream",
     "text": [
      "15996\n"
     ]
    }
   ],
   "source": [
    "#Create morgan fingerprints for compound smiles using RDKit (refer back to exploratory_DA)\n",
    "rd_mols = [Chem.MolFromSmiles(smiles) for smiles in beta[\"Ligand SMILES\"]]\n",
    "beta[\"RDkit Molecule\"] = rd_mols\n",
    "del rd_mols\n",
    "beta.dropna(subset=[\"RDkit Molecule\"], inplace=True)\n",
    "morgan_gen = rdFingerprintGenerator.GetMorganGenerator(radius=2, fpSize=2048)\n",
    "morgan = [morgan_gen.GetFingerprint(mol) for mol in beta[\"RDkit Molecule\"]]\n",
    "tmpX = [list(m) for m in morgan]\n",
    "print(len(tmpX))"
   ]
  },
  {
   "cell_type": "code",
   "execution_count": 109,
   "metadata": {},
   "outputs": [
    {
     "name": "stdout",
     "output_type": "stream",
     "text": [
      "15996\n",
      "15996\n"
     ]
    }
   ],
   "source": [
    "#transform the activty_class into integer labels for training\n",
    "#print(beta)\n",
    "tmp = [l for l in beta[\"activity_class\"]]\n",
    "#print(beta['activity_class'])\n",
    "for i,t in enumerate(tmp):\n",
    "    if t=='inactive': tmp[i]=0\n",
    "    if t=='moderately_active': tmp[i]=1\n",
    "    else: tmp[i]=2\n",
    "print(len(tmp))\n",
    "print(len(list(beta['activity_class'])))"
   ]
  },
  {
   "cell_type": "code",
   "execution_count": 112,
   "metadata": {},
   "outputs": [
    {
     "name": "stdout",
     "output_type": "stream",
     "text": [
      "15996\n",
      "15996\n"
     ]
    }
   ],
   "source": [
    "from sklearn.model_selection import train_test_split\n",
    "Y = tmp\n",
    "print(len(Y))\n",
    "X = pd.DataFrame(tmpX)\n",
    "print(len(X))\n",
    "X_train,X_test,Y_train,Y_test = train_test_split(X,Y, test_size=0.2, train_size=0.8,random_state=42)\n",
    "#Y_train\n"
   ]
  },
  {
   "cell_type": "code",
   "execution_count": 117,
   "metadata": {},
   "outputs": [
    {
     "name": "stdout",
     "output_type": "stream",
     "text": [
      "Cross-validation scores: [0.7984375  0.7971864  0.80031262 0.80461118 0.80695584]\n",
      "Mean CV score: 0.801500708284486\n",
      "              precision    recall  f1-score   support\n",
      "\n",
      "           1       0.82      0.87      0.84      1828\n",
      "           2       0.81      0.74      0.77      1372\n",
      "\n",
      "    accuracy                           0.81      3200\n",
      "   macro avg       0.81      0.80      0.81      3200\n",
      "weighted avg       0.81      0.81      0.81      3200\n",
      "\n"
     ]
    }
   ],
   "source": [
    "#Train three non-neural net models for classification \n",
    "from sklearn.ensemble import RandomForestClassifier\n",
    "from sklearn.model_selection import cross_val_score\n",
    "from sklearn.metrics import classification_report\n",
    "\n",
    "\n",
    "\n",
    "rf_model = RandomForestClassifier(n_estimators=100, random_state=42)\n",
    "\n",
    "\n",
    "rf_model.fit(X_train, Y_train)\n",
    "cv_scores = cross_val_score(rf_model, X_train, Y_train, cv=5)\n",
    "print(f'Cross-validation scores: {cv_scores}')\n",
    "print(f'Mean CV score: {cv_scores.mean()}')\n",
    "# Predict and evaluate\n",
    "y_pred = rf_model.predict(X_test)\n",
    "print(classification_report(Y_test, y_pred))\n"
   ]
  },
  {
   "cell_type": "code",
   "execution_count": 115,
   "metadata": {},
   "outputs": [
    {
     "name": "stdout",
     "output_type": "stream",
     "text": [
      "Mean Absolute Error: 0.18625\n",
      "R2 Score: 0.2395582803299502\n"
     ]
    }
   ],
   "source": [
    "from sklearn.metrics import mean_absolute_error, r2_score\n",
    "mae = mean_absolute_error(Y_test, y_pred)\n",
    "r2 = r2_score(Y_test, y_pred)\n",
    "print('Mean Absolute Error:', mae)\n",
    "print('R2 Score:', r2)"
   ]
  },
  {
   "cell_type": "code",
   "execution_count": 118,
   "metadata": {},
   "outputs": [
    {
     "name": "stdout",
     "output_type": "stream",
     "text": [
      "              precision    recall  f1-score   support\n",
      "\n",
      "           1       0.67      0.96      0.79      1828\n",
      "           2       0.88      0.36      0.51      1372\n",
      "\n",
      "    accuracy                           0.70      3200\n",
      "   macro avg       0.77      0.66      0.65      3200\n",
      "weighted avg       0.76      0.70      0.67      3200\n",
      "\n"
     ]
    }
   ],
   "source": [
    "from sklearn.svm import SVC\n",
    "svm_model = SVC(kernel='rbf', C=1.0, gamma='auto')\n",
    "svm_model.fit(X_train, Y_train)\n",
    "y_pred = svm_model.predict(X_test)\n",
    "print(classification_report(Y_test, y_pred))"
   ]
  },
  {
   "cell_type": "code",
   "execution_count": 119,
   "metadata": {},
   "outputs": [
    {
     "name": "stdout",
     "output_type": "stream",
     "text": [
      "              precision    recall  f1-score   support\n",
      "\n",
      "           1       0.79      0.85      0.82      1828\n",
      "           2       0.78      0.70      0.74      1372\n",
      "\n",
      "    accuracy                           0.79      3200\n",
      "   macro avg       0.78      0.78      0.78      3200\n",
      "weighted avg       0.79      0.79      0.78      3200\n",
      "\n"
     ]
    }
   ],
   "source": [
    "from sklearn.linear_model import LogisticRegression\n",
    "\n",
    "lr_model = LogisticRegression(penalty='l2', C=1.0, random_state=42, max_iter=200)\n",
    "lr_model.fit(X_train, Y_train)\n",
    "\n",
    "y_pred = lr_model.predict(X_test)\n",
    "print(classification_report(Y_test, y_pred))"
   ]
  },
  {
   "cell_type": "code",
   "execution_count": null,
   "metadata": {},
   "outputs": [],
   "source": [
    "#Neural net model for classification (you can refer to https://psrivasin.medium.com/multiclass-classification-using-tensorflow-850ee138d0ca for a guide)\n",
    "#Input layer from morgan fingerprints\n",
    "#hidden layer > hyperparameter tune \n",
    "#hyperparameter to tune: number of hidden layers (1 to 4), number of units in each layer (32-128), learning rate ( 1e-05 to 5e-05)\n",
    "#dropout layer > tune dropout rate (0.1 to 0.3)\n",
    "#Output 1 dense layer with 3 units, softmax activation"
   ]
  },
  {
   "cell_type": "code",
   "execution_count": null,
   "metadata": {},
   "outputs": [],
   "source": []
  }
 ],
 "metadata": {
  "kernelspec": {
   "display_name": "Python 3 (ipykernel)",
   "language": "python",
   "name": "python3"
  },
  "language_info": {
   "codemirror_mode": {
    "name": "ipython",
    "version": 3
   },
   "file_extension": ".py",
   "mimetype": "text/x-python",
   "name": "python",
   "nbconvert_exporter": "python",
   "pygments_lexer": "ipython3",
   "version": "3.10.12"
  }
 },
 "nbformat": 4,
 "nbformat_minor": 2
}
